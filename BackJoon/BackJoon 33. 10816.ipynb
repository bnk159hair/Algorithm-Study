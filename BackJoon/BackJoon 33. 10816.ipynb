{
 "cells": [
  {
   "cell_type": "markdown",
   "id": "db92cb47",
   "metadata": {},
   "source": [
    "이번 문제는 잃어버린 괄호라는 문제이다. \n",
    "괄호를 적절히 쳐서 식의 값을 최소로 만드는 문제이다. \n",
    "\n",
    "처음 문제를 너무 어렵게 생각한 이유는 괄호를 하나만 쳐야한다고 오해했었기 때문이다. \n",
    "그리고 +와 -를 통해서 어떻게 값을 나눠주느냐였는데\n",
    "split 함수를 통해 -를 먼저 나누고 +를 나눠주는 식으로 진행했다.\n",
    "\n",
    "하나 틀렸던 부분이 있는데 바로 valueerror가 뜨는 것이었다.\n",
    "처음 시작이 +인 경우 -로 split 했을 때 [0] 값이 int 가 아니게 되는데 ex) '101+100'\n",
    "이 때 int(STR[0])로 처리 해버려서 오류가 나는 것이 었다. 그래서 STR[0]에 대해 다시 한번 split을 취하는\n",
    "작업이 필요했다.\n",
    "\n",
    "참고 : https://sungmin-joo.tistory.com/67"
   ]
  },
  {
   "cell_type": "code",
   "execution_count": 16,
   "id": "4ce37604",
   "metadata": {},
   "outputs": [
    {
     "name": "stdout",
     "output_type": "stream",
     "text": [
      "1000+100\n",
      "1100\n"
     ]
    }
   ],
   "source": [
    "STR = input().split('-')\n",
    "result = 0\n",
    "\n",
    "for i in STR[0].split('+'):\n",
    "    result += int(i)\n",
    "\n",
    "for i in STR[1:]:\n",
    "    for j in i.split('+'):\n",
    "        result -= int(j)\n",
    "        \n",
    "print(result)"
   ]
  },
  {
   "cell_type": "code",
   "execution_count": null,
   "id": "2b536036",
   "metadata": {},
   "outputs": [],
   "source": []
  }
 ],
 "metadata": {
  "kernelspec": {
   "display_name": "Python 3",
   "language": "python",
   "name": "python3"
  },
  "language_info": {
   "codemirror_mode": {
    "name": "ipython",
    "version": 3
   },
   "file_extension": ".py",
   "mimetype": "text/x-python",
   "name": "python",
   "nbconvert_exporter": "python",
   "pygments_lexer": "ipython3",
   "version": "3.8.11"
  }
 },
 "nbformat": 4,
 "nbformat_minor": 5
}
