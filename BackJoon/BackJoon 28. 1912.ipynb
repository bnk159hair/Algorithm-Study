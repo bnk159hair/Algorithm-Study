{
 "cells": [
  {
   "cell_type": "markdown",
   "id": "349d72d3",
   "metadata": {},
   "source": [
    "### 풀이과정:\n",
    "주어진 임의의 수열에서 연속된 몇 개의 수를 선택하고, 구할 수 있는 합 중 가장 큰 합을   구하는 문제이다. 단, 한개 이상 선택해야 한다.\n",
    "\n",
    "따라서 dp 테이블 정의는 한 개 이상의 값을 무조건 설정해야하기에 현재 값을 포함하여  연속하여 선택한 가장 큰 값으로 정의한다.\n",
    "\n",
    "초기값 dp[0]은 이전에 선택할 값이 없기에 arr[0]을 그대로 설정한다.\n",
    "\n",
    "그리고 점화식은 한 개 이상의 값을 무조건 설정해야하기에 현재 값을 선택하거나   아니면 연속되어야 하기에 이전 dp 값과 더한 현재값 중 더 큰 값을 설정한다."
   ]
  },
  {
   "cell_type": "code",
   "execution_count": 2,
   "id": "25532529",
   "metadata": {},
   "outputs": [
    {
     "name": "stdout",
     "output_type": "stream",
     "text": [
      "10\n",
      "10 -4 3 1 5 6 -35 12 21 -1\n",
      "33\n"
     ]
    }
   ],
   "source": [
    "N = int(input())\n",
    "arr = list(map(int, input().split()))\n",
    "\n",
    "dp = [0 for _ in range(N)]\n",
    "\n",
    "dp[0] = arr[0]\n",
    "\n",
    "for i in range(1, N):\n",
    "    dp[i] = max(arr[i], arr[i] + dp[i-1])\n",
    "    \n",
    "print(max(dp))"
   ]
  },
  {
   "cell_type": "code",
   "execution_count": null,
   "id": "2e01d9a7",
   "metadata": {},
   "outputs": [],
   "source": [
    "10\n"
   ]
  }
 ],
 "metadata": {
  "kernelspec": {
   "display_name": "Python 3",
   "language": "python",
   "name": "python3"
  },
  "language_info": {
   "codemirror_mode": {
    "name": "ipython",
    "version": 3
   },
   "file_extension": ".py",
   "mimetype": "text/x-python",
   "name": "python",
   "nbconvert_exporter": "python",
   "pygments_lexer": "ipython3",
   "version": "3.8.11"
  }
 },
 "nbformat": 4,
 "nbformat_minor": 5
}
