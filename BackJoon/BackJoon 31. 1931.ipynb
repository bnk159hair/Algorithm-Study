{
 "cells": [
  {
   "cell_type": "code",
   "execution_count": 10,
   "id": "6f0ff575",
   "metadata": {},
   "outputs": [
    {
     "name": "stdout",
     "output_type": "stream",
     "text": [
      "1\n",
      "1 5\n",
      "1\n"
     ]
    }
   ],
   "source": [
    "N = int(input())\n",
    "\n",
    "arr = [list(map(int, input().split())) for _ in range(N)]\n",
    "\n",
    "arr.sort(key=lambda x:(x[1], x[0]))\n",
    "count = 0\n",
    "if N>0:\n",
    "    start_time = arr[0][0]\n",
    "    end_time = arr[0][1]\n",
    "    count = 1\n",
    "\n",
    "    for i in range(1, N):\n",
    "        if arr[i][0] >= end_time:\n",
    "            count += 1\n",
    "            start_time = arr[i][0]\n",
    "            end_time = arr[i][1]\n",
    "\n",
    "print(count)"
   ]
  },
  {
   "cell_type": "code",
   "execution_count": null,
   "id": "12db6559",
   "metadata": {},
   "outputs": [],
   "source": []
  }
 ],
 "metadata": {
  "kernelspec": {
   "display_name": "Python 3",
   "language": "python",
   "name": "python3"
  },
  "language_info": {
   "codemirror_mode": {
    "name": "ipython",
    "version": 3
   },
   "file_extension": ".py",
   "mimetype": "text/x-python",
   "name": "python",
   "nbconvert_exporter": "python",
   "pygments_lexer": "ipython3",
   "version": "3.8.11"
  }
 },
 "nbformat": 4,
 "nbformat_minor": 5
}
