{
 "cells": [
  {
   "cell_type": "code",
   "execution_count": 18,
   "id": "12787b3c",
   "metadata": {},
   "outputs": [],
   "source": [
    "num = 4\n",
    "arr = [3, 5, 2, 7]"
   ]
  },
  {
   "cell_type": "markdown",
   "id": "192c8cdc",
   "metadata": {},
   "source": [
    "## 아래는 정답 코드\n",
    "참조 : https://hongcoding.tistory.com/40"
   ]
  },
  {
   "cell_type": "code",
   "execution_count": 33,
   "id": "e0ebee11",
   "metadata": {},
   "outputs": [
    {
     "name": "stdout",
     "output_type": "stream",
     "text": [
      "5 2 7 -1\n"
     ]
    }
   ],
   "source": [
    "#import sys\n",
    "#input = sys.stdin.readline\n",
    "#num = int(input())\n",
    "#arr = list(map(int, input().split()))\n",
    "\n",
    "result = [-1 for _ in range(num)]\n",
    "stack = []\n",
    "\n",
    "stack.append(0)\n",
    "\n",
    "for i in range(1, num):\n",
    "    while stack and arr[stack[-1]] < arr[i]:\n",
    "        result[stack.pop()] = arr[i]\n",
    "    stack.append(i)\n",
    "print(*result)"
   ]
  },
  {
   "cell_type": "markdown",
   "id": "ec04a8af",
   "metadata": {},
   "source": [
    "## 아래는 오답코드"
   ]
  },
  {
   "cell_type": "code",
   "execution_count": 28,
   "id": "72b337bd",
   "metadata": {},
   "outputs": [
    {
     "name": "stdout",
     "output_type": "stream",
     "text": [
      "-1 5 -1 -1\n"
     ]
    }
   ],
   "source": [
    "#import sys\n",
    "\n",
    "class stack:\n",
    "    def __init__(self):\n",
    "        self.items = []\n",
    "    def push(self, item):\n",
    "        self.items.append(item)\n",
    "    def empty(self):\n",
    "        return int(not self.items)\n",
    "    def size(self):\n",
    "        return len(self.items)\n",
    "    def top(self):\n",
    "        if self.empty():\n",
    "            return 0\n",
    "        return self.items[-1]\n",
    "    def pop(self):\n",
    "        if self.empty():\n",
    "            return 0\n",
    "        return self.items.pop()\n",
    "    \n",
    "#input = sys.stdin.readline\n",
    "\n",
    "Stack = stack()\n",
    "#num = int(input())\n",
    "#arr = list(map(int, input().split()))\n",
    "result = []\n",
    "\n",
    "arr.reverse()\n",
    "\n",
    "for i in arr:\n",
    "    Stack.push(i)\n",
    "check= False\n",
    "\n",
    "for i in range(num):\n",
    "    std = Stack.pop()\n",
    "    copy = [i for i in Stack.items]\n",
    "    check = False\n",
    "    #print(copy)\n",
    "    for j in range(Stack.size()):\n",
    "        temp = copy.pop()\n",
    "        if std < temp:\n",
    "            result.append(temp)\n",
    "            check = True\n",
    "            break\n",
    "    if check != True:\n",
    "        result.append(-1)\n",
    "        \n",
    "#for i in result:\n",
    "#    print(i, end=\" \")"
   ]
  },
  {
   "cell_type": "markdown",
   "id": "c8330325",
   "metadata": {},
   "source": [
    "class stack:\n",
    "    def __init__(self):\n",
    "        self.items = []\n",
    "    def push(self, item):\n",
    "        self.items.append(item)\n",
    "    def empty(self):\n",
    "        return int(not self.items)\n",
    "    def size(self):\n",
    "        return len(self.items)\n",
    "    def top(self):\n",
    "        if self.empty():\n",
    "            return 0\n",
    "        return self.items[-1]\n",
    "    def pop(self):\n",
    "        if self.empty():\n",
    "            return 0\n",
    "        return self.items.pop()\n",
    "\n",
    "Stack = stack()\n",
    "Stack.push(1)\n",
    "Stack.push(2)\n",
    "Stack.push(3)\n",
    "test1 = [1,2,3,4,5]\n",
    "test2 = [i for i in Stack.items]\n",
    "print(test2)"
   ]
  },
  {
   "cell_type": "code",
   "execution_count": null,
   "id": "0f70e15a",
   "metadata": {},
   "outputs": [],
   "source": []
  }
 ],
 "metadata": {
  "kernelspec": {
   "display_name": "Python 3",
   "language": "python",
   "name": "python3"
  },
  "language_info": {
   "codemirror_mode": {
    "name": "ipython",
    "version": 3
   },
   "file_extension": ".py",
   "mimetype": "text/x-python",
   "name": "python",
   "nbconvert_exporter": "python",
   "pygments_lexer": "ipython3",
   "version": "3.8.11"
  }
 },
 "nbformat": 4,
 "nbformat_minor": 5
}
