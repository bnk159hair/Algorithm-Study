{
 "cells": [
  {
   "cell_type": "code",
   "execution_count": null,
   "id": "eb5b3bf4",
   "metadata": {},
   "outputs": [],
   "source": [
    "#num = int(input())"
   ]
  },
  {
   "cell_type": "code",
   "execution_count": null,
   "id": "c4349327",
   "metadata": {},
   "outputs": [],
   "source": [
    "import sys\n",
    "from collections import deque\n",
    "input = sys.stdin.readline\n",
    "num = int(input())\n",
    "for _ in range(num):\n",
    "    cnt, obj = map(int, input().split())\n",
    "    arr = deque(list(map(int, input().split())))\n",
    "    count = 0 \n",
    "    while arr:\n",
    "        best = max(arr)\n",
    "        front = arr.popleft()\n",
    "        obj -= 1\n",
    "        \n",
    "        if best == front:\n",
    "            count += 1\n",
    "            if obj < 0:\n",
    "                print(count)\n",
    "                break\n",
    "        else:\n",
    "            arr.append(front)\n",
    "            if obj<0:\n",
    "                obj = len(arr)-1\n",
    "    \n",
    "    "
   ]
  },
  {
   "cell_type": "code",
   "execution_count": null,
   "id": "11afc6c1",
   "metadata": {},
   "outputs": [],
   "source": []
  },
  {
   "cell_type": "code",
   "execution_count": null,
   "id": "07823568",
   "metadata": {},
   "outputs": [],
   "source": []
  }
 ],
 "metadata": {
  "kernelspec": {
   "display_name": "Python 3",
   "language": "python",
   "name": "python3"
  },
  "language_info": {
   "codemirror_mode": {
    "name": "ipython",
    "version": 3
   },
   "file_extension": ".py",
   "mimetype": "text/x-python",
   "name": "python",
   "nbconvert_exporter": "python",
   "pygments_lexer": "ipython3",
   "version": "3.8.11"
  }
 },
 "nbformat": 4,
 "nbformat_minor": 5
}
