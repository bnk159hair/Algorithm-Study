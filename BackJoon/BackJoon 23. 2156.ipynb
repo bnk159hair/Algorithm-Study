{
 "cells": [
  {
   "cell_type": "markdown",
   "id": "c17ed695",
   "metadata": {},
   "source": [
    "이번 문제는 dp 테이블과 점화식 모두 80프로는 잘 작성했다.\n",
    "하지만 계속해서 틀렸는데, 그 이유는 \n",
    "1. dp[i-3] + arr[i-1] + arr[i]\n",
    "2. dp[i-2] + arr[i]\n",
    "까지는 잘 작성하였는데\n",
    "위의 경우들은 전부 현재 포도주를 마시는 경우만을 가정한 것이다. \n",
    "현재 포도주를 마시지 않는 경우도 작성해야했다.\n",
    "\n",
    "한마디로 나는 dp 테이블을 현재 마신 것중 최댓값으로 설정했는데 \n",
    "이게 아니라 현재 순서까지 중 최대로 마신 값으로 설정해야 했다.\n",
    "\n",
    "그래서 현재 순서에서 마시지 않는 선택지를 선택하지 못한 것이다. "
   ]
  },
  {
   "cell_type": "code",
   "execution_count": 9,
   "id": "98f814db",
   "metadata": {},
   "outputs": [
    {
     "name": "stdout",
     "output_type": "stream",
     "text": [
      "13\n",
      "1\n",
      "2\n",
      "3\n",
      "4\n",
      "5\n",
      "6\n",
      "7\n",
      "6\n",
      "5\n",
      "4\n",
      "3\n",
      "2\n",
      "1\n",
      "33\n"
     ]
    }
   ],
   "source": [
    "#import sys\n",
    "#input = sys.stdin.readline\n",
    "\n",
    "N = int(input())\n",
    "\n",
    "arr = [0]\n",
    "for _ in range(N):\n",
    "    temp = int(input())\n",
    "    arr.append(temp)\n",
    "    \n",
    "dp = [0 for _ in range(N+1)]\n",
    "\n",
    "if N > 0:\n",
    "    dp[1] = arr[1]\n",
    "if N > 1:\n",
    "    dp[2] = arr[1] + arr[2]\n",
    "if N > 2:\n",
    "    for i in range(3, N+1):\n",
    "        dp[i] = max(dp[i-3] + arr[i-1] + arr[i], dp[i-2] + arr[i], dp[i-1]) \n",
    "\n",
    "print(max(dp))"
   ]
  },
  {
   "cell_type": "code",
   "execution_count": null,
   "id": "e04f5f5d",
   "metadata": {},
   "outputs": [],
   "source": []
  }
 ],
 "metadata": {
  "kernelspec": {
   "display_name": "Python 3",
   "language": "python",
   "name": "python3"
  },
  "language_info": {
   "codemirror_mode": {
    "name": "ipython",
    "version": 3
   },
   "file_extension": ".py",
   "mimetype": "text/x-python",
   "name": "python",
   "nbconvert_exporter": "python",
   "pygments_lexer": "ipython3",
   "version": "3.8.11"
  }
 },
 "nbformat": 4,
 "nbformat_minor": 5
}
