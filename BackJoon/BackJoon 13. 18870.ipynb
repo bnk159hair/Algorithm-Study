{
 "cells": [
  {
   "cell_type": "markdown",
   "id": "1281735c",
   "metadata": {},
   "source": [
    "### 어떠한 방식으로 하면 될지는 알았지만 어떻게 구현할 것인지는\n",
    "### 잘 몰랐는데, 딕셔너리를 이용해서 굳이 이중 for문을 사용할 필요가 없었다"
   ]
  },
  {
   "cell_type": "code",
   "execution_count": 10,
   "id": "1c079ba2",
   "metadata": {},
   "outputs": [
    {
     "name": "stdout",
     "output_type": "stream",
     "text": [
      "5\n",
      "2 4 -10 4 -9\n",
      "2 3 0 3 1 "
     ]
    }
   ],
   "source": [
    "N = int(input())\n",
    "arr = list(map(int, input().split()))\n",
    "\n",
    "set_arr = set(arr)\n",
    "list_arr = list(set_arr)\n",
    "list_arr.sort()\n",
    "\n",
    "result = {}\n",
    "\n",
    "for i in range(len(list_arr)):\n",
    "    result[list_arr[i]] = i\n",
    "    \n",
    "for i in arr:\n",
    "    print(result[i], end=\" \")"
   ]
  },
  {
   "cell_type": "code",
   "execution_count": null,
   "id": "ddd82a35",
   "metadata": {},
   "outputs": [],
   "source": []
  }
 ],
 "metadata": {
  "kernelspec": {
   "display_name": "Python 3",
   "language": "python",
   "name": "python3"
  },
  "language_info": {
   "codemirror_mode": {
    "name": "ipython",
    "version": 3
   },
   "file_extension": ".py",
   "mimetype": "text/x-python",
   "name": "python",
   "nbconvert_exporter": "python",
   "pygments_lexer": "ipython3",
   "version": "3.8.11"
  }
 },
 "nbformat": 4,
 "nbformat_minor": 5
}
