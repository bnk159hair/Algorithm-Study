{
 "cells": [
  {
   "cell_type": "markdown",
   "id": "a7e09501",
   "metadata": {},
   "source": [
    "### 풀이과정:\n",
    "계단을 올라갈 때 한칸씩 아니면 한번에 두칸씩 올라갈 수 있는데,\n",
    "연속해서 3개를 올라갈 수는 없으므로 도착지 입장에서 보면 2가지 경우로 나뉜다.\n",
    "\n",
    "Sum은 현재 계단까지 최대합, arr은 계단의 값\n",
    "\n",
    "1. 현재 계단 + 두번 이전 계단의 최대합\n",
    "2. 현재 계단 + 이전 계단 + 세번 이전 계단의 최대합\n",
    "\n",
    "이 중 최대값이 현재 계단까지 올라오는데 얻을 수 있는 최대값이다. \n",
    "\n",
    "이전 문제를 풀 때 현재 상황에서 다음 상황으로 어떻게 계산해야하냐가 아니라\n",
    "현재 상황이 이전 상황으로부터 어떻게 와야하는지에 대해 접근해야겠다고 생각했는데\n",
    "오직 내 힘만으로 문제를 풀어보아서 기분이 좋다."
   ]
  },
  {
   "cell_type": "code",
   "execution_count": 10,
   "id": "39ce964d",
   "metadata": {},
   "outputs": [
    {
     "name": "stdout",
     "output_type": "stream",
     "text": [
      "2\n",
      "1\n",
      "5\n",
      "6\n"
     ]
    }
   ],
   "source": [
    "N = int(input())\n",
    "\n",
    "arr = [0]\n",
    "for _ in range(N):\n",
    "    temp = int(input())\n",
    "    arr.append(temp)\n",
    "Sum = [0 for _ in range(N+1)]\n",
    "\n",
    "if N > 0:\n",
    "    Sum[1] = arr[1]\n",
    "if N > 1:\n",
    "    Sum[2] = arr[1] + arr[2]\n",
    "\n",
    "if N == 1:\n",
    "    print(Sum[1])\n",
    "elif N == 2:\n",
    "    print(Sum[2])\n",
    "else: \n",
    "    for i in range(3, N+1):\n",
    "        Sum[i] = max(arr[i]+Sum[i-2], arr[i]+arr[i-1]+Sum[i-3])\n",
    "    print(Sum[N])\n",
    "\n"
   ]
  },
  {
   "cell_type": "code",
   "execution_count": null,
   "id": "ceff05c0",
   "metadata": {},
   "outputs": [],
   "source": []
  }
 ],
 "metadata": {
  "kernelspec": {
   "display_name": "Python 3",
   "language": "python",
   "name": "python3"
  },
  "language_info": {
   "codemirror_mode": {
    "name": "ipython",
    "version": 3
   },
   "file_extension": ".py",
   "mimetype": "text/x-python",
   "name": "python",
   "nbconvert_exporter": "python",
   "pygments_lexer": "ipython3",
   "version": "3.8.11"
  }
 },
 "nbformat": 4,
 "nbformat_minor": 5
}
