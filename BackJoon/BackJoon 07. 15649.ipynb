{
 "cells": [
  {
   "cell_type": "code",
   "execution_count": 1,
   "id": "d462eb9b",
   "metadata": {},
   "outputs": [
    {
     "name": "stdout",
     "output_type": "stream",
     "text": [
      "4 4\n",
      "1 2 3 4 \n",
      "1 2 4 3 \n",
      "1 3 2 4 \n",
      "1 3 4 2 \n",
      "1 4 2 3 \n",
      "1 4 3 2 \n",
      "2 1 3 4 \n",
      "2 1 4 3 \n",
      "2 3 1 4 \n",
      "2 3 4 1 \n",
      "2 4 1 3 \n",
      "2 4 3 1 \n",
      "3 1 2 4 \n",
      "3 1 4 2 \n",
      "3 2 1 4 \n",
      "3 2 4 1 \n",
      "3 4 1 2 \n",
      "3 4 2 1 \n",
      "4 1 2 3 \n",
      "4 1 3 2 \n",
      "4 2 1 3 \n",
      "4 2 3 1 \n",
      "4 3 1 2 \n",
      "4 3 2 1 \n"
     ]
    }
   ],
   "source": [
    "N, M = tuple(map(int, input().split()))\n",
    "\n",
    "arr = [i for i in range(1, N+1)]\n",
    "\n",
    "def all_NM(num:int, List:list, string: str):\n",
    "    global N, M\n",
    "    \n",
    "    if num == M:\n",
    "        print(string)\n",
    "        return\n",
    "    else:\n",
    "        \n",
    "        for i in range(len(List)):\n",
    "            temp = List[:]\n",
    "            temp_str = string[:]\n",
    "            \n",
    "            temp_str += str(List[i])\n",
    "            temp_str += \" \"\n",
    "            del temp[i]\n",
    "            all_NM(num+1, temp, temp_str)\n",
    "            \n",
    "all_NM(0, arr, \"\")\n",
    "            \n",
    "    \n",
    "    "
   ]
  },
  {
   "cell_type": "code",
   "execution_count": null,
   "id": "662ee8e3",
   "metadata": {},
   "outputs": [],
   "source": [
    "import sys\n",
    "input = sys.stdin.readline\n",
    "\n",
    "N, M = tuple(map(int, input().split()))\n",
    "\n",
    "arr = [i for i in range(1, N+1)]\n",
    "\n",
    "def all_NM(num:int, List:list, string: str):\n",
    "    global N, M\n",
    "    \n",
    "    if num == M:\n",
    "        print(string)\n",
    "        return\n",
    "    else:\n",
    "        \n",
    "        for i in range(len(List)):\n",
    "            temp = List[:]\n",
    "            temp_str = string[:]\n",
    "            temp_str += str(List[i])\n",
    "            temp_str += \" \"\n",
    "            del temp[i]\n",
    "            all_NM(num+1, temp, temp_str)\n",
    "            \n",
    "all_NM(0, arr, \"\")"
   ]
  },
  {
   "cell_type": "markdown",
   "id": "59b555b9",
   "metadata": {},
   "source": [
    "## 위에는 내 코드, 아래는 블로그 코드"
   ]
  },
  {
   "cell_type": "code",
   "execution_count": null,
   "id": "bd77e520",
   "metadata": {},
   "outputs": [],
   "source": [
    "n, m = map(int, input().split())\n",
    "\n",
    "visited = [False] * (n + 1)\n",
    "answer = []\n",
    "\n",
    "def dfs(a):\n",
    "    if a == 0:\n",
    "        print(\" \".join(map(str, answer)))\n",
    "        return\n",
    "\n",
    "    for i in range(1, n + 1):\n",
    "        if not visited[i]:\n",
    "            answer.append(i)\n",
    "            visited[i] = True\n",
    "            dfs(a - 1)\n",
    "            answer.pop()\n",
    "            visited[i] = False\n",
    "\n",
    "\n",
    "dfs(m)"
   ]
  }
 ],
 "metadata": {
  "kernelspec": {
   "display_name": "Python 3",
   "language": "python",
   "name": "python3"
  },
  "language_info": {
   "codemirror_mode": {
    "name": "ipython",
    "version": 3
   },
   "file_extension": ".py",
   "mimetype": "text/x-python",
   "name": "python",
   "nbconvert_exporter": "python",
   "pygments_lexer": "ipython3",
   "version": "3.8.11"
  }
 },
 "nbformat": 4,
 "nbformat_minor": 5
}
