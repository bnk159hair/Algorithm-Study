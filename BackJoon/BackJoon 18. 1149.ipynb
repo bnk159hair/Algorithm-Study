{
 "cells": [
  {
   "cell_type": "code",
   "execution_count": 4,
   "id": "df3af00e",
   "metadata": {},
   "outputs": [
    {
     "name": "stdout",
     "output_type": "stream",
     "text": [
      "8\n",
      "71 39 44\n",
      "32 83 55\n",
      "51 37 63\n",
      "89 29 100\n",
      "83 58 11\n",
      "65 13 15\n",
      "47 25 29\n",
      "47 25 29\n",
      "241\n"
     ]
    }
   ],
   "source": [
    "N = int(input())\n",
    "\n",
    "arr = [list(map(int, input().split())) for _ in range(N)]\n",
    "dp = [[0 for _ in range(3)] for _ in range(N)]\n",
    "\n",
    "dp[0][0], dp[0][1], dp[0][2] = arr[0][0], arr[0][1], arr[0][2]\n",
    "\n",
    "for i in range(1, N):\n",
    "    dp[i][0] = min(dp[i-1][1]+arr[i][0], dp[i-1][2]+arr[i][0])\n",
    "    dp[i][1] = min(dp[i-1][0]+arr[i][1], dp[i-1][2]+arr[i][1])\n",
    "    dp[i][2] = min(dp[i-1][0]+arr[i][2], dp[i-1][1]+arr[i][2])\n",
    "    \n",
    "print(min(dp[N-1][0], dp[N-1][1], dp[N-1][2]))"
   ]
  },
  {
   "cell_type": "code",
   "execution_count": null,
   "id": "eb3c87ae",
   "metadata": {},
   "outputs": [],
   "source": [
    "N = int(input())\n",
    "\n",
    "arr = [list(map(int, input().split())) for _ in range(N)]\n",
    "dp = [[0 for _ in range(3)] for _ in range(N)]\n",
    "\n",
    "dp[0][0], dp[0][1], dp[0][2] = arr[0][0], arr[0][1], arr[0][2]\n",
    "\n",
    "for i in range(1, N):\n",
    "    dp[i][0] = min(dp[i-1][1]+arr[i][0], dp[i-1][2]+arr[i][0])\n",
    "    dp[i][1] = min(dp[i-1][0]+arr[i][1], dp[i-1][2]+arr[i][1])\n",
    "    dp[i][2] = min(dp[i-1][0]+arr[i][2], dp[i-1][1]+arr[i][2])\n",
    "    \n",
    "print(min(dp[N-1][0], dp[N-1][1], dp[N-1][2]))"
   ]
  },
  {
   "cell_type": "markdown",
   "id": "2b9071d1",
   "metadata": {},
   "source": [
    "처음에는 이전에서 선택안한 것 중 가장 작은 값을 계속해서 더해갔는데\n",
    "이 방법으로는 최소값을 구할 수 없었다.\n",
    "\n",
    "새롭게 한 방법은 각각 색별로 이전에서 선택하고 합하는 방법이다. \n",
    "DP 어렵다..."
   ]
  }
 ],
 "metadata": {
  "kernelspec": {
   "display_name": "Python 3",
   "language": "python",
   "name": "python3"
  },
  "language_info": {
   "codemirror_mode": {
    "name": "ipython",
    "version": 3
   },
   "file_extension": ".py",
   "mimetype": "text/x-python",
   "name": "python",
   "nbconvert_exporter": "python",
   "pygments_lexer": "ipython3",
   "version": "3.8.11"
  }
 },
 "nbformat": 4,
 "nbformat_minor": 5
}
