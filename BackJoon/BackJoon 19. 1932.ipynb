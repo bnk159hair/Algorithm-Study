{
 "cells": [
  {
   "cell_type": "markdown",
   "id": "695d6cf2",
   "metadata": {},
   "source": [
    "#### 이번 문제는 어떻게 풀어야 할지에 대해서 감이 안왔었다\n",
    "나는 위에서 아래로 내려가면 값을 어떤 방식으로 저장해야하나 고민을 했었는데\n",
    "#### 반대로 생각하면 되는 거였다. 위에서 아래로 값을 내려간다 생각하는게 아니라\n",
    "#### 아래 있는 값이 위에있는 두개의 값중 큰것과 더하는 방식으로 저장하면 되는 것이었다."
   ]
  },
  {
   "cell_type": "code",
   "execution_count": 1,
   "id": "9730fb78",
   "metadata": {},
   "outputs": [
    {
     "name": "stdout",
     "output_type": "stream",
     "text": [
      "5\n",
      "7\n",
      "3 8\n",
      "8 1 0\n",
      "2 7 4 4\n",
      "4 5 2 6 5\n",
      "30\n"
     ]
    }
   ],
   "source": [
    "N = int(input())\n",
    "\n",
    "arr = [list(map(int, input().split())) for _ in range(N)]\n",
    "\n",
    "dp = [[0 for _ in range(N)] for _ in range(N)]\n",
    "\n",
    "dp[0][0] = arr[0][0]\n",
    "\n",
    "for i in range(1, N):\n",
    "    for j in range(0, i+1):\n",
    "        if j == 0:\n",
    "            dp[i][j] = dp[i-1][j] + arr[i][j]\n",
    "        else:\n",
    "            dp[i][j] = max(dp[i-1][j-1], dp[i-1][j]) + arr[i][j]\n",
    "            \n",
    "print(max(dp[N-1]))"
   ]
  },
  {
   "cell_type": "code",
   "execution_count": null,
   "id": "e3880d12",
   "metadata": {},
   "outputs": [],
   "source": []
  }
 ],
 "metadata": {
  "kernelspec": {
   "display_name": "Python 3",
   "language": "python",
   "name": "python3"
  },
  "language_info": {
   "codemirror_mode": {
    "name": "ipython",
    "version": 3
   },
   "file_extension": ".py",
   "mimetype": "text/x-python",
   "name": "python",
   "nbconvert_exporter": "python",
   "pygments_lexer": "ipython3",
   "version": "3.8.11"
  }
 },
 "nbformat": 4,
 "nbformat_minor": 5
}
