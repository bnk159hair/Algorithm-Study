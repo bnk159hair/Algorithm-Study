{
 "cells": [
  {
   "cell_type": "code",
   "execution_count": 1,
   "id": "689c44b8",
   "metadata": {},
   "outputs": [
    {
     "name": "stdout",
     "output_type": "stream",
     "text": [
      "4 2\n",
      "1 1\n",
      "1 2\n",
      "1 3\n",
      "1 4\n",
      "2 2\n",
      "2 3\n",
      "2 4\n",
      "3 3\n",
      "3 4\n",
      "4 4\n"
     ]
    }
   ],
   "source": [
    "N, M = tuple(map(int, input().split()))\n",
    "\n",
    "result = []\n",
    "visited = [False for i in range(N+1)]\n",
    "\n",
    "def func(start: int, num:int):\n",
    "    if num == 0:\n",
    "        print(\" \".join(map(str, result)))\n",
    "    else:\n",
    "        for i in range(start, N+1):\n",
    "            result.append(i)\n",
    "            func(i, num-1)\n",
    "            result.pop()\n",
    "                \n",
    "func(1, M)"
   ]
  },
  {
   "cell_type": "code",
   "execution_count": null,
   "id": "3a8d9d27",
   "metadata": {},
   "outputs": [],
   "source": []
  }
 ],
 "metadata": {
  "kernelspec": {
   "display_name": "Python 3",
   "language": "python",
   "name": "python3"
  },
  "language_info": {
   "codemirror_mode": {
    "name": "ipython",
    "version": 3
   },
   "file_extension": ".py",
   "mimetype": "text/x-python",
   "name": "python",
   "nbconvert_exporter": "python",
   "pygments_lexer": "ipython3",
   "version": "3.8.11"
  }
 },
 "nbformat": 4,
 "nbformat_minor": 5
}
