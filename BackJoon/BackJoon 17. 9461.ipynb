{
 "cells": [
  {
   "cell_type": "code",
   "execution_count": 2,
   "id": "aa895d4f",
   "metadata": {},
   "outputs": [
    {
     "name": "stdout",
     "output_type": "stream",
     "text": [
      "2\n",
      "6\n",
      "3\n",
      "12\n",
      "16\n"
     ]
    }
   ],
   "source": [
    "import sys\n",
    "input = sys.stdin.readline\n",
    "\n",
    "T = int(input())\n",
    "\n",
    "dp = [0 for _ in range(100+1)]\n",
    "\n",
    "dp[1] = 1\n",
    "#if N > 0:\n",
    "dp[2] = 1\n",
    "#if N > 1:\n",
    "dp[3] = 1\n",
    "\n",
    "for i in range(4, 100+1):\n",
    "    dp[i] = dp[i-2] + dp[i-3]\n",
    "    \n",
    "for _ in range(T):\n",
    "    N = int(input())\n",
    "    print(dp[N])\n",
    "    "
   ]
  },
  {
   "cell_type": "code",
   "execution_count": null,
   "id": "418fe861",
   "metadata": {},
   "outputs": [],
   "source": []
  }
 ],
 "metadata": {
  "kernelspec": {
   "display_name": "Python 3",
   "language": "python",
   "name": "python3"
  },
  "language_info": {
   "codemirror_mode": {
    "name": "ipython",
    "version": 3
   },
   "file_extension": ".py",
   "mimetype": "text/x-python",
   "name": "python",
   "nbconvert_exporter": "python",
   "pygments_lexer": "ipython3",
   "version": "3.8.11"
  }
 },
 "nbformat": 4,
 "nbformat_minor": 5
}
