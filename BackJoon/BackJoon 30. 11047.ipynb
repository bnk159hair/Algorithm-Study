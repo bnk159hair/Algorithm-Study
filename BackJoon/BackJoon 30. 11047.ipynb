{
 "cells": [
  {
   "cell_type": "markdown",
   "id": "ab0518ff",
   "metadata": {},
   "source": [
    "### 그리디 알고리즘으로 푼 문제이다."
   ]
  },
  {
   "cell_type": "markdown",
   "id": "bf62a0bb",
   "metadata": {},
   "source": [
    "아래는 빼기 연산으로 진행했다가 시간초과가 뜬 코드"
   ]
  },
  {
   "cell_type": "code",
   "execution_count": 8,
   "id": "05a20dd8",
   "metadata": {},
   "outputs": [
    {
     "name": "stdout",
     "output_type": "stream",
     "text": [
      "10 4200\n",
      "1\n",
      "5\n",
      "10\n",
      "50\n",
      "100\n",
      "500\n",
      "1000\n",
      "5000\n",
      "10000\n",
      "50000\n",
      "6\n"
     ]
    }
   ],
   "source": [
    "N, K = list(map(int,input().split()))\n",
    "\n",
    "arr = [int(input()) for _ in range(N)]\n",
    "\n",
    "count = 0\n",
    "\n",
    "temp = N - 1\n",
    "\n",
    "while temp >= 0:\n",
    "    if K - arr[temp] >= 0:\n",
    "        K -= arr[temp]\n",
    "        count += 1\n",
    "    else:\n",
    "        temp -= 1\n",
    "        \n",
    "print(count)"
   ]
  },
  {
   "cell_type": "markdown",
   "id": "cfa297ba",
   "metadata": {},
   "source": [
    "해당 코드는 수정해서 정답이 된 코드이다."
   ]
  },
  {
   "cell_type": "code",
   "execution_count": 7,
   "id": "433f6fb7",
   "metadata": {},
   "outputs": [
    {
     "name": "stdout",
     "output_type": "stream",
     "text": [
      "4 200\n"
     ]
    }
   ],
   "source": [
    "N, K = list(map(int,input().split()))\n",
    "\n",
    "arr = [int(input()) for _ in range(N)]\n",
    "\n",
    "count = 0\n",
    "\n",
    "temp = N - 1\n",
    "\n",
    "while temp >= 0:\n",
    "    num = K // arr[temp]\n",
    "    if num > 0:\n",
    "        K = K % arr[temp]\n",
    "        count += num\n",
    "    else:\n",
    "        temp -= 1\n",
    "        \n",
    "print(count)"
   ]
  },
  {
   "cell_type": "code",
   "execution_count": null,
   "id": "0faf4297",
   "metadata": {},
   "outputs": [],
   "source": []
  }
 ],
 "metadata": {
  "kernelspec": {
   "display_name": "Python 3",
   "language": "python",
   "name": "python3"
  },
  "language_info": {
   "codemirror_mode": {
    "name": "ipython",
    "version": 3
   },
   "file_extension": ".py",
   "mimetype": "text/x-python",
   "name": "python",
   "nbconvert_exporter": "python",
   "pygments_lexer": "ipython3",
   "version": "3.8.11"
  }
 },
 "nbformat": 4,
 "nbformat_minor": 5
}
