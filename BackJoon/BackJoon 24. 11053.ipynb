{
 "cells": [
  {
   "cell_type": "markdown",
   "id": "2b0c6b9f",
   "metadata": {},
   "source": [
    "### 위의 코드는 처음 단순하게 풀었던 틀린 코드, 아래는 맞게 푼 코드\n",
    "\n",
    "설명: 처음에는 단순하게 0번째 부터 시작해서 그 다음 값이 더 크다면 추가하는 방식으로 풀었었다. 하지만 이렇게 풀경우 30 10 20 30로 주어졌을때 정답이 3이 아닌 1이 된다.\n",
    "30보다 큰 값이 존재하지 않기 때문이다.\n",
    "\n",
    "따라서 dp 테이블은 현재 위치의 값 기준으로 가장 긴 증가하는 부분수열의 길이로 정의했다. 그래서 이중 for문을 이용하였고, 현재 위치보다 이전값을 확인하면서 값이 현재값보다 더 작으면서 길이가 가장 긴 dp 값을 얻은 후 해당 값에 1을 추가하는 방식으로\n",
    "점화식을 세웠다."
   ]
  },
  {
   "cell_type": "code",
   "execution_count": 5,
   "id": "f3b89f72",
   "metadata": {},
   "outputs": [
    {
     "name": "stdout",
     "output_type": "stream",
     "text": [
      "6\n",
      "10 20 10 30 20 50\n",
      "2\n"
     ]
    }
   ],
   "source": [
    "# 오답 코드\n",
    "\n",
    "N = int(input())\n",
    "\n",
    "arr = list(map(int, input().split()))\n",
    "\n",
    "dp = [arr[0]]\n",
    "\n",
    "for i in range(N):\n",
    "    if arr[i] > dp[-1]:\n",
    "        dp.append(arr[i])\n",
    "        \n",
    "print(len(dp))"
   ]
  },
  {
   "cell_type": "code",
   "execution_count": null,
   "id": "9838722c",
   "metadata": {},
   "outputs": [],
   "source": [
    "# 정답 코드\n",
    "\n",
    "N = int(input())\n",
    "\n",
    "arr = list(map(int, input().split()))\n",
    "\n",
    "dp = [0 for _ in range(N)]\n",
    "dp[0] = 1\n",
    "for i in range(1, N):\n",
    "    Max = 0\n",
    "    for j in range(0, i):\n",
    "        if arr[i] > arr[j]:\n",
    "            Max = max(Max, dp[j])\n",
    "    dp[i] = Max + 1\n",
    "\n",
    "print(max(dp))"
   ]
  }
 ],
 "metadata": {
  "kernelspec": {
   "display_name": "Python 3",
   "language": "python",
   "name": "python3"
  },
  "language_info": {
   "codemirror_mode": {
    "name": "ipython",
    "version": 3
   },
   "file_extension": ".py",
   "mimetype": "text/x-python",
   "name": "python",
   "nbconvert_exporter": "python",
   "pygments_lexer": "ipython3",
   "version": "3.8.11"
  }
 },
 "nbformat": 4,
 "nbformat_minor": 5
}
