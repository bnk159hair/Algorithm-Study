{
 "cells": [
  {
   "cell_type": "code",
   "execution_count": null,
   "id": "6b620c8a",
   "metadata": {},
   "outputs": [],
   "source": [
    "import sys \n",
    "input = sys.stdin.readline\n",
    "\n",
    "N, M = tuple(map(int, input().split()))\n",
    "\n",
    "result = []\n",
    "#visited = [False for i in range(N+1)]\n",
    "\n",
    "def func(num:int):\n",
    "    if num == 0:\n",
    "        print(\" \".join(map(str, result)))\n",
    "    else:\n",
    "        for i in range(1, N+1):\n",
    "            result.append(i)\n",
    "            func(num-1)\n",
    "            result.pop()\n",
    "                \n",
    "func(M)"
   ]
  }
 ],
 "metadata": {
  "kernelspec": {
   "display_name": "Python 3",
   "language": "python",
   "name": "python3"
  },
  "language_info": {
   "codemirror_mode": {
    "name": "ipython",
    "version": 3
   },
   "file_extension": ".py",
   "mimetype": "text/x-python",
   "name": "python",
   "nbconvert_exporter": "python",
   "pygments_lexer": "ipython3",
   "version": "3.8.11"
  }
 },
 "nbformat": 4,
 "nbformat_minor": 5
}
