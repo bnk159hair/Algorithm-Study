{
 "cells": [
  {
   "cell_type": "markdown",
   "id": "90c8ad5e",
   "metadata": {},
   "source": [
    "처음에는 sum 함수를 이용해서 구현하였다. \n",
    "시간초과가 될거 같아서 이전에 계산한 값을 가지고 있는것이 해답이 될거라는 생각은 했지만,\n",
    "2차원 배열로 구현해야할거 같다는 틀린 생각을 가졌었다.\n",
    "\n",
    "하지만 여러 블로그를 확인해본결과 애초에 처음 한번 sum을 계산하여 배열에 저장한후 \n",
    "필요한 값만 구하는 식으로 진행하는 것을 확인할 수 있었다."
   ]
  },
  {
   "cell_type": "code",
   "execution_count": null,
   "id": "38fd99f0",
   "metadata": {},
   "outputs": [],
   "source": [
    "import sys\n",
    "input = sys.stdin.readline\n",
    "\n",
    "N, M = map(int, input().split())\n",
    "arr = list(map(int, input().split()))\n",
    "Sum = [0]\n",
    "\n",
    "temp = 0\n",
    "for i in arr:\n",
    "    temp += i\n",
    "    Sum.append(temp)\n",
    "\n",
    "for _ in range(M):\n",
    "    i, j = map(int, input().split())\n",
    "    print(Sum[j]-Sum[i-1])"
   ]
  }
 ],
 "metadata": {
  "kernelspec": {
   "display_name": "Python 3",
   "language": "python",
   "name": "python3"
  },
  "language_info": {
   "codemirror_mode": {
    "name": "ipython",
    "version": 3
   },
   "file_extension": ".py",
   "mimetype": "text/x-python",
   "name": "python",
   "nbconvert_exporter": "python",
   "pygments_lexer": "ipython3",
   "version": "3.8.11"
  }
 },
 "nbformat": 4,
 "nbformat_minor": 5
}
