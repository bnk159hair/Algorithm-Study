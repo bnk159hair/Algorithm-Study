{
 "cells": [
  {
   "cell_type": "code",
   "execution_count": 17,
   "id": "e2d699e4",
   "metadata": {},
   "outputs": [
    {
     "name": "stdout",
     "output_type": "stream",
     "text": [
      "3\n",
      "0\n",
      "1\n",
      "3\n",
      "1 0\n",
      "0 1\n",
      "1 2\n"
     ]
    }
   ],
   "source": [
    "import sys\n",
    "input = sys.stdin.readline\n",
    "\n",
    "N = int(input())\n",
    "\n",
    "arr= [int(input()) for _ in range(N)]\n",
    "# 0, 1 num\n",
    "\n",
    "def Fibonacci(N)->list:\n",
    "    if save_list[N] != [-1, -1]:\n",
    "        return save_list[N]\n",
    "    if N == 0:\n",
    "        return [1, 0]\n",
    "    elif N == 1:\n",
    "        return [0, 1]\n",
    "    else:\n",
    "        N_1 = Fibonacci(N-1)\n",
    "        N_2 = Fibonacci(N-2)\n",
    "        save_list[N] = [N_1[0]+N_2[0], N_1[1]+N_2[1]]\n",
    "        return save_list[N]\n",
    "\n",
    "for i in range(N):\n",
    "    save_list = [[-1,-1] for _ in range(41)]\n",
    "    print(*Fibonacci(arr[i]))"
   ]
  },
  {
   "cell_type": "code",
   "execution_count": null,
   "id": "523226d9",
   "metadata": {},
   "outputs": [],
   "source": [
    "\n"
   ]
  }
 ],
 "metadata": {
  "kernelspec": {
   "display_name": "Python 3",
   "language": "python",
   "name": "python3"
  },
  "language_info": {
   "codemirror_mode": {
    "name": "ipython",
    "version": 3
   },
   "file_extension": ".py",
   "mimetype": "text/x-python",
   "name": "python",
   "nbconvert_exporter": "python",
   "pygments_lexer": "ipython3",
   "version": "3.8.11"
  }
 },
 "nbformat": 4,
 "nbformat_minor": 5
}
