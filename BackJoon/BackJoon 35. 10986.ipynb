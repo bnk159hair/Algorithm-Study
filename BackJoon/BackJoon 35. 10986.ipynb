{
 "cells": [
  {
   "cell_type": "markdown",
   "id": "2aefe17b",
   "metadata": {},
   "source": [
    "이번 문제는 나머지합을 구하는 문제이다.  \n",
    "부분합을 구해야하는데, 어떻게 풀어야할지 감이 오지 않아서 결국 해답을 보게 되었다.  \n",
    "처음 문제를 접근할때는 아래 코드와 같이 이중 for문을 통해 접근해보았다.   \n",
    "정답은 나오지만 시간 초과라는 결과가 나오게 된다."
   ]
  },
  {
   "cell_type": "code",
   "execution_count": 31,
   "id": "539056dd",
   "metadata": {},
   "outputs": [
    {
     "name": "stdout",
     "output_type": "stream",
     "text": [
      "5 3\n",
      "1 2 3 1 2\n",
      "7\n"
     ]
    }
   ],
   "source": [
    "N, M = map(int, input().split())\n",
    "\n",
    "arr = [[0 for _ in range(N)] for _ in range(2)]\n",
    "\n",
    "value = list(map(int, input().split()))\n",
    "arr[0] = [i % M for i in value]\n",
    "result = arr[0].count(0)\n",
    "\n",
    "for i in range(1, N):\n",
    "    arr[1][0] = (arr[0][0]+value[i]) % M\n",
    "    if arr[1][0] == 0:\n",
    "            result+=1\n",
    "    for j in range(1, N-i):\n",
    "        arr[1][j] = (arr[1][j-1] - value[j-1]+value[j+i])%M\n",
    "        if arr[1][j] == 0:\n",
    "            result+=1\n",
    "            \n",
    "    arr[0] = [i for i in arr[1]]\n",
    "\n",
    "\n",
    "print(result)\n"
   ]
  },
  {
   "cell_type": "markdown",
   "id": "c002620e",
   "metadata": {},
   "source": [
    "아래 코드가 시간초과 되지않는 코드이다.  \n",
    "해답은 우선 전체 누적 값을 구한다. (prefix값)   \n",
    "그리고 나머지 값 별로 개수를 구한다.  \n",
    "5 3   \n",
    "1 2 3 1 2  \n",
    "를 예시로 들면  \n",
    "prefix 값은   \n",
    "1 3 6 7 9 이다.  \n",
    "나머지 값은  \n",
    "1 0 0 1 0   이다.\n",
    "\n",
    "각 나머지 값의 개수는  \n",
    "3 2 0 이다.  \n",
    "  \n",
    "이 때 1 3 6 과 1은 나머지가 1로 같다. 그렇다면 1 3 6에서 1을 빼면 3 6이 나오므로  \n",
    "나머지가 0으로 떨어지는 부분합을 구할 수 있다. 이와 같은 방법으로  \n",
    "전체 부분합을 구한것을 이용하여, 각 나머지 개수에서 nC2를 구하면 그 중에서 2개를 고르게 되므로  \n",
    "해당 값이 부분합 개수를 구하는 코드가 된다."
   ]
  },
  {
   "cell_type": "code",
   "execution_count": 4,
   "id": "7c15deaa",
   "metadata": {},
   "outputs": [
    {
     "name": "stdout",
     "output_type": "stream",
     "text": [
      "5 3\n",
      "1 2 3 1 2\n",
      "[3, 2, 0]\n",
      "4\n"
     ]
    }
   ],
   "source": [
    "N, M = map(int, input().split())\n",
    "value = list(map(int, input().split()))\n",
    "\n",
    "Sum = [0 for _ in range(M)]\n",
    "temp = 0\n",
    "\n",
    "    \n",
    "for i in value:\n",
    "    temp += i\n",
    "    Sum[temp % M] += 1\n",
    "    \n",
    "result = Sum[0] # 단독으로 있는 경우도 해당되기에\n",
    "\n",
    "for i in Sum:\n",
    "    result += i*(i-1)//2 # n C 2\n",
    "     \n",
    "print(result)"
   ]
  },
  {
   "cell_type": "code",
   "execution_count": null,
   "id": "6687258d",
   "metadata": {},
   "outputs": [],
   "source": []
  }
 ],
 "metadata": {
  "kernelspec": {
   "display_name": "Python 3",
   "language": "python",
   "name": "python3"
  },
  "language_info": {
   "codemirror_mode": {
    "name": "ipython",
    "version": 3
   },
   "file_extension": ".py",
   "mimetype": "text/x-python",
   "name": "python",
   "nbconvert_exporter": "python",
   "pygments_lexer": "ipython3",
   "version": "3.8.11"
  }
 },
 "nbformat": 4,
 "nbformat_minor": 5
}
