{
 "cells": [
  {
   "cell_type": "markdown",
   "id": "5fb41d88",
   "metadata": {},
   "source": [
    "코드트리 강의를 보고 작성함\n"
   ]
  },
  {
   "cell_type": "code",
   "execution_count": 6,
   "id": "70e38bbd",
   "metadata": {},
   "outputs": [
    {
     "name": "stdout",
     "output_type": "stream",
     "text": [
      "ACAYKP\n",
      "CAPCAK\n",
      "4\n"
     ]
    }
   ],
   "source": [
    "str_1 = input()\n",
    "str_2 = input()\n",
    "\n",
    "str_1 = \" \"+str_1\n",
    "str_2 = \" \"+str_2\n",
    "\n",
    "\n",
    "dp = [[0 for _ in range(1001)] for _ in range(1001)]\n",
    "\n",
    "\n",
    "dp[1][1] = int(str_1[1]==str_2[1])\n",
    "\n",
    "for i in range(2, len(str_1)):\n",
    "    if str_2[1] == str_1[i]:\n",
    "        dp[i][1] = 1\n",
    "    else:\n",
    "        dp[i][1] = dp[i-1][1]\n",
    "        \n",
    "for i in range(2, len(str_2)):\n",
    "    if str_1[1] == str_2[i]:\n",
    "        dp[1][i] = 1\n",
    "    else:\n",
    "        dp[1][i] = dp[1][i-1]\n",
    "        \n",
    "for i in range(2, len(str_1)):\n",
    "    for j in range(2, len(str_2)):\n",
    "        if str_1[i] == str_2[j]:\n",
    "            dp[i][j] = dp[i-1][j-1] + 1\n",
    "        else:\n",
    "            dp[i][j] = max(dp[i-1][j], dp[i][j-1])\n",
    "            \n",
    "print(dp[len(str_1)-1][len(str_2)-1])"
   ]
  },
  {
   "cell_type": "code",
   "execution_count": null,
   "id": "ee53da1e",
   "metadata": {},
   "outputs": [],
   "source": []
  }
 ],
 "metadata": {
  "kernelspec": {
   "display_name": "Python 3",
   "language": "python",
   "name": "python3"
  },
  "language_info": {
   "codemirror_mode": {
    "name": "ipython",
    "version": 3
   },
   "file_extension": ".py",
   "mimetype": "text/x-python",
   "name": "python",
   "nbconvert_exporter": "python",
   "pygments_lexer": "ipython3",
   "version": "3.8.11"
  }
 },
 "nbformat": 4,
 "nbformat_minor": 5
}
