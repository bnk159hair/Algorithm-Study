{
 "cells": [
  {
   "cell_type": "markdown",
   "id": "bcf12659",
   "metadata": {},
   "source": [
    "### 풀이과정:\n",
    "이전에 풀었던 증가하는 부분 수열과 유사하다 하지만\n",
    "N을 기준으로 증가하고 감소해야한다는 특징이 있기에 \n",
    "증가하는 부분 수열 길이를 구하고 감소하는 부분 수열 길이를 구해서 더하는 방법으로 해결했다. 왜냐하면\n",
    "7 1 2 3 2 1 일때\n",
    "1 2 3 2 1 이 가장긴 바이토닉 수열이지만\n",
    "7이 기준이라면 7 3 2 1 도 바이토닉 수열 중 하나이기 때문\n"
   ]
  },
  {
   "cell_type": "code",
   "execution_count": 10,
   "id": "935dc1f1",
   "metadata": {},
   "outputs": [
    {
     "name": "stdout",
     "output_type": "stream",
     "text": [
      "10\n",
      "1 5 2 1 4 3 4 5 2 1\n",
      "7\n"
     ]
    }
   ],
   "source": [
    "# 맞는 코드\n",
    "\n",
    "N = int(input())\n",
    "\n",
    "arr = list(map(int, input().split()))\n",
    "\n",
    "dp = [[0 for _ in range(N)] for _ in range(2)]\n",
    "dp[0][0] = 1\n",
    "dp[1][N-1] = 1\n",
    "for i in range(1, N):\n",
    "    Max = 0\n",
    "    for j in range(0, i):\n",
    "        if arr[i] > arr[j]:\n",
    "            Max = max(Max, dp[0][j])\n",
    "    dp[0][i] = Max + 1\n",
    "    \n",
    "for i in range(N-1, -1, -1):\n",
    "    Max = 0\n",
    "    for j in range(N-1, i, -1):\n",
    "        if arr[i] > arr[j]:\n",
    "            Max = max(Max, dp[1][j])\n",
    "    dp[1][i] = Max + 1\n",
    "    \n",
    "result = [0 for _ in range(N)]\n",
    "for i in range(0, N):\n",
    "    result[i] = dp[0][i] + dp[1][i] - 1\n",
    "\n",
    "print(max(result))\n",
    "\n"
   ]
  },
  {
   "cell_type": "code",
   "execution_count": null,
   "id": "dd2430f4",
   "metadata": {},
   "outputs": [],
   "source": []
  }
 ],
 "metadata": {
  "kernelspec": {
   "display_name": "Python 3",
   "language": "python",
   "name": "python3"
  },
  "language_info": {
   "codemirror_mode": {
    "name": "ipython",
    "version": 3
   },
   "file_extension": ".py",
   "mimetype": "text/x-python",
   "name": "python",
   "nbconvert_exporter": "python",
   "pygments_lexer": "ipython3",
   "version": "3.8.11"
  }
 },
 "nbformat": 4,
 "nbformat_minor": 5
}
