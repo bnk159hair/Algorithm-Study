{
 "cells": [
  {
   "cell_type": "code",
   "execution_count": 16,
   "id": "1c122fed",
   "metadata": {},
   "outputs": [
    {
     "name": "stdout",
     "output_type": "stream",
     "text": [
      "1 1 1\n",
      "w(1, 1, 1) = 2\n",
      "50 50 50\n",
      "w(50, 50, 50) = 1048576\n",
      "-1 -1 -1\n"
     ]
    }
   ],
   "source": [
    "import sys\n",
    "input = sys.stdin.readline\n",
    "\n",
    "arr=[\n",
    "    [\n",
    "        [-1 for _ in range(21)] for _ in range(21)\n",
    "    ] for _ in range(21)\n",
    "]\n",
    "\n",
    "def W(a, b, c):\n",
    "    \n",
    "    if a <= 0 or b <= 0 or c <= 0:\n",
    "        return 1\n",
    "    if a > 20 or b > 20 or c > 20:\n",
    "        return W(20, 20, 20)\n",
    "    if arr[a][b][c] != -1:\n",
    "        return arr[a][b][c]\n",
    "    else:\n",
    "        if a < b < c:\n",
    "            arr[a][b][c] = W(a, b, c-1) + W(a, b-1, c-1) - W(a, b-1, c)\n",
    "            return arr[a][b][c]\n",
    "        else:\n",
    "            temp = W(a-1, b, c) + W(a-1, b-1, c) + W(a-1, b, c-1) - W(a-1, b-1, c-1)\n",
    "            arr[a][b][c] = temp\n",
    "            return temp\n",
    "\n",
    "while True:\n",
    "    a, b, c = list(map(int, input().split()))\n",
    "    if a == -1 and b == -1 and c == -1:\n",
    "        break\n",
    "    print(\"w({0}, {1}, {2}) = {3}\".format(a, b, c, W(a,b,c)))"
   ]
  },
  {
   "cell_type": "code",
   "execution_count": null,
   "id": "038749e9",
   "metadata": {},
   "outputs": [],
   "source": []
  }
 ],
 "metadata": {
  "kernelspec": {
   "display_name": "Python 3",
   "language": "python",
   "name": "python3"
  },
  "language_info": {
   "codemirror_mode": {
    "name": "ipython",
    "version": 3
   },
   "file_extension": ".py",
   "mimetype": "text/x-python",
   "name": "python",
   "nbconvert_exporter": "python",
   "pygments_lexer": "ipython3",
   "version": "3.8.11"
  }
 },
 "nbformat": 4,
 "nbformat_minor": 5
}
