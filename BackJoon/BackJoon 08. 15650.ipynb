{
 "cells": [
  {
   "cell_type": "code",
   "execution_count": 2,
   "id": "48d1eb71",
   "metadata": {},
   "outputs": [
    {
     "name": "stdout",
     "output_type": "stream",
     "text": [
      "4 4\n",
      "1 2 3 4\n"
     ]
    }
   ],
   "source": [
    "N, M = tuple(map(int, input().split()))\n",
    "\n",
    "result = []\n",
    "visited = [False for i in range(N+1)]\n",
    "\n",
    "def func(start: int, num:int):\n",
    "    if num == 0:\n",
    "        print(\" \".join(map(str, result)))\n",
    "    else:\n",
    "        for i in range(start, N+1):\n",
    "            if visited[i] == False:\n",
    "                result.append(i)\n",
    "                visited[i] = True\n",
    "                func(i, num-1)\n",
    "                result.pop()\n",
    "                visited[i] = False\n",
    "                \n",
    "func(1, M)"
   ]
  },
  {
   "cell_type": "code",
   "execution_count": null,
   "id": "35bd4c0a",
   "metadata": {},
   "outputs": [],
   "source": []
  }
 ],
 "metadata": {
  "kernelspec": {
   "display_name": "Python 3",
   "language": "python",
   "name": "python3"
  },
  "language_info": {
   "codemirror_mode": {
    "name": "ipython",
    "version": 3
   },
   "file_extension": ".py",
   "mimetype": "text/x-python",
   "name": "python",
   "nbconvert_exporter": "python",
   "pygments_lexer": "ipython3",
   "version": "3.8.11"
  }
 },
 "nbformat": 4,
 "nbformat_minor": 5
}
