{
 "cells": [
  {
   "cell_type": "markdown",
   "id": "d939c293",
   "metadata": {},
   "source": [
    "https://pacific-ocean.tistory.com/151\n",
    "\n",
    "이번 문제도 똑같이 결과부터 올라가면 비교적 더 쉽게 아이디어를 구현할 수 있다.\n",
    "\n",
    "내가 생각했던 풀이법은 0과 9를 제외하면 2개의 경우의 수가 생기니까 이걸 더할 수 없을까 했는데, 01212345 와 같은 식으로도 수가 생성될 수 있기에 이 경우를 다 셀 수는 없다.\n",
    "\n",
    "도저히 다른 풀이법을 생각해볼 수 없어서 위 링크의 블로그를 참조해본 결과 완벽하게 이해되었다. 뒷자리(최종 결과)가 8일 경우에는 맨 뒷자리가 7과 9일 수 있는 경우의 수를 더하면 된다.\n",
    "따라서 현재 자릿수의 값이 i라면 이전 자릿수의 i-1과 i+1 일 때 나올수 있는 숫자의 경우의수를 더해주면 된다.\n",
    "\n",
    "하지만 i가 0과 9라면 각각 1과 8 밖에 경우의 수가 없으므로 이 부분은 값을 그대로 가져온다."
   ]
  },
  {
   "cell_type": "code",
   "execution_count": 3,
   "id": "82e153d1",
   "metadata": {},
   "outputs": [
    {
     "name": "stdout",
     "output_type": "stream",
     "text": [
      "2\n",
      "17\n"
     ]
    }
   ],
   "source": [
    "N = int(input())\n",
    "\n",
    "# dp 테이블 정의\n",
    "dp = [[0 for _ in range(10)] for _ in range(101)]\n",
    "\n",
    "# 초기화 \n",
    "for i in range(1, 10):\n",
    "    dp[1][i] = 1\n",
    "\n",
    "# 점화식\n",
    "for i in range(2, N+1):\n",
    "    for j in range(10):\n",
    "        if j == 0:\n",
    "            dp[i][j] = dp[i-1][1]\n",
    "        elif j == 9:\n",
    "            dp[i][j] = dp[i-1][8]\n",
    "        else:\n",
    "            dp[i][j] = dp[i-1][j-1] + dp[i-1][j+1]\n",
    "            \n",
    "print(sum(dp[N])%1000000000)\n",
    "            "
   ]
  },
  {
   "cell_type": "code",
   "execution_count": null,
   "id": "ffbf3e37",
   "metadata": {},
   "outputs": [],
   "source": []
  }
 ],
 "metadata": {
  "kernelspec": {
   "display_name": "Python 3",
   "language": "python",
   "name": "python3"
  },
  "language_info": {
   "codemirror_mode": {
    "name": "ipython",
    "version": 3
   },
   "file_extension": ".py",
   "mimetype": "text/x-python",
   "name": "python",
   "nbconvert_exporter": "python",
   "pygments_lexer": "ipython3",
   "version": "3.8.11"
  }
 },
 "nbformat": 4,
 "nbformat_minor": 5
}
