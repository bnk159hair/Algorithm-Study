{
 "cells": [
  {
   "cell_type": "markdown",
   "id": "c2762cf9",
   "metadata": {},
   "source": [
    "입력 예시를 순서대로 적어보는건 좋은 시도였다. 하지만 그 다음으로는 나아가지 못했는데  \n",
    "겹치는 전깃줄이 최대한 없으려면 가장 긴 증가하는 부분수열을 만들면 되는 것이었다."
   ]
  },
  {
   "cell_type": "code",
   "execution_count": 1,
   "id": "7c3c0637",
   "metadata": {},
   "outputs": [
    {
     "name": "stdout",
     "output_type": "stream",
     "text": [
      "8\n",
      "1 8\n",
      "3 9\n",
      "2 2\n",
      "4 1\n",
      "6 4\n",
      "10 10\n",
      "9 7\n",
      "7 6\n",
      "3\n"
     ]
    }
   ],
   "source": [
    "N = int(input())\n",
    "\n",
    "arr = []\n",
    "\n",
    "for _ in range(N):\n",
    "    arr.append(list(map(int, input().split())))\n",
    "    \n",
    "arr.sort(key = lambda x:x[0])\n",
    "\n",
    "\n",
    "dp = [0 for _ in range(N)]\n",
    "dp[0] = 1\n",
    "for i in range(1, N):\n",
    "    Max = 0\n",
    "    for j in ranage(0, i):\n",
    "        if arr[i][1] > arr[j][1]:\n",
    "            Max = max(Max, dp[j])\n",
    "    dp[i] = Max + 1\n",
    "    \n",
    "print(N-max(dp))\n"
   ]
  },
  {
   "cell_type": "code",
   "execution_count": null,
   "id": "a4b6545b",
   "metadata": {},
   "outputs": [],
   "source": []
  }
 ],
 "metadata": {
  "kernelspec": {
   "display_name": "Python 3",
   "language": "python",
   "name": "python3"
  },
  "language_info": {
   "codemirror_mode": {
    "name": "ipython",
    "version": 3
   },
   "file_extension": ".py",
   "mimetype": "text/x-python",
   "name": "python",
   "nbconvert_exporter": "python",
   "pygments_lexer": "ipython3",
   "version": "3.8.11"
  }
 },
 "nbformat": 4,
 "nbformat_minor": 5
}
