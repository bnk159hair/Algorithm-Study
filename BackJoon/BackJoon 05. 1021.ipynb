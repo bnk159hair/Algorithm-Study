{
 "cells": [
  {
   "cell_type": "code",
   "execution_count": null,
   "id": "c5064268",
   "metadata": {},
   "outputs": [],
   "source": []
  },
  {
   "cell_type": "code",
   "execution_count": 1,
   "id": "ccdaf464",
   "metadata": {},
   "outputs": [],
   "source": [
    "from collections import deque\n",
    "#import sys\n",
    "#input = sys.stdin.readline\n",
    "\n"
   ]
  },
  {
   "cell_type": "code",
   "execution_count": 3,
   "id": "7abab99a",
   "metadata": {},
   "outputs": [
    {
     "name": "stdout",
     "output_type": "stream",
     "text": [
      "10 3\n",
      "2 9 5\n",
      "8\n"
     ]
    }
   ],
   "source": [
    "N, M = list(map(int, input().split()))\n",
    "inform = list(map(int, input().split()))\n",
    "\n",
    "dq = deque(i for i in range(1, N+1))\n",
    "cnt = 0\n",
    "\n",
    "while inform:\n",
    "    if dq[0] == inform[0]:\n",
    "        dq.popleft()\n",
    "        del inform[0]\n",
    "    else:\n",
    "        if dq.index(inform[0]) > len(dq)/2:\n",
    "            while dq[0] != inform[0]:\n",
    "                dq.appendleft(dq.pop())\n",
    "                cnt += 1\n",
    "        else:\n",
    "            while dq[0] != inform[0]:\n",
    "                dq.append(dq.popleft())\n",
    "                cnt += 1\n",
    "print(cnt)\n"
   ]
  },
  {
   "cell_type": "code",
   "execution_count": null,
   "id": "1286e2e3",
   "metadata": {},
   "outputs": [],
   "source": []
  }
 ],
 "metadata": {
  "kernelspec": {
   "display_name": "Python 3",
   "language": "python",
   "name": "python3"
  },
  "language_info": {
   "codemirror_mode": {
    "name": "ipython",
    "version": 3
   },
   "file_extension": ".py",
   "mimetype": "text/x-python",
   "name": "python",
   "nbconvert_exporter": "python",
   "pygments_lexer": "ipython3",
   "version": "3.8.11"
  }
 },
 "nbformat": 4,
 "nbformat_minor": 5
}
