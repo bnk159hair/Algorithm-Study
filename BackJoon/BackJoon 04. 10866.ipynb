{
 "cells": [
  {
   "cell_type": "code",
   "execution_count": null,
   "id": "5926b67d",
   "metadata": {},
   "outputs": [],
   "source": []
  },
  {
   "cell_type": "code",
   "execution_count": 5,
   "id": "4d5762a5",
   "metadata": {},
   "outputs": [
    {
     "name": "stdout",
     "output_type": "stream",
     "text": [
      "<class 'int'>\n",
      "<class 'int'>\n",
      "<class 'int'>\n",
      "<class 'int'>\n",
      "<class 'int'>\n"
     ]
    }
   ],
   "source": [
    "import sys\n",
    "from collections import deque\n",
    "input = sys.stdin.readline\n",
    "\n",
    "class Deque:\n",
    "    def __init__(self):\n",
    "        self.items = deque()\n",
    "    def push_front(self, X):\n",
    "        self.items.appendleft(X)\n",
    "    def push_back(self, X):\n",
    "        self.items.append(X)\n",
    "    def empty(self):\n",
    "        return int(not self.items)\n",
    "    def pop_front(self):\n",
    "        if self.empty():\n",
    "            return -1\n",
    "        return self.items.popleft()\n",
    "    def pop_back(self):\n",
    "        if self.empty():\n",
    "            return -1\n",
    "        return self.items.pop()\n",
    "    def size(self):\n",
    "        return len(self.items)\n",
    "    def front(self):\n",
    "        if self.empty():\n",
    "            return -1\n",
    "        return self.items[0]\n",
    "    def back(self):\n",
    "        if self.empty():\n",
    "            return -1\n",
    "        return self.items[-1]\n",
    "\n",
    "dq = Deque()\n",
    "num = int(input())\n",
    "\n",
    "for i in range(num):\n",
    "    string = input()[:-1]\n",
    "    if string == \"size\":\n",
    "        print(dq.size())\n",
    "    elif string == \"empty\":\n",
    "        print(dq.empty())\n",
    "    elif string == \"pop_front\":\n",
    "        print(dq.pop_front())\n",
    "    elif string == \"pop_back\":\n",
    "        print(dq.pop_back())\n",
    "    elif string == \"front\":\n",
    "        print(dq.front())\n",
    "    elif string == \"back\":\n",
    "        print(dq.back())\n",
    "    else:\n",
    "        temp, n = string.split()\n",
    "        n = int(n)\n",
    "        if temp == \"push_front\":\n",
    "            dq.push_front(n)\n",
    "        else:\n",
    "            dq.push_back(n)"
   ]
  },
  {
   "cell_type": "code",
   "execution_count": null,
   "id": "04d2650b",
   "metadata": {},
   "outputs": [],
   "source": []
  }
 ],
 "metadata": {
  "kernelspec": {
   "display_name": "Python 3",
   "language": "python",
   "name": "python3"
  },
  "language_info": {
   "codemirror_mode": {
    "name": "ipython",
    "version": 3
   },
   "file_extension": ".py",
   "mimetype": "text/x-python",
   "name": "python",
   "nbconvert_exporter": "python",
   "pygments_lexer": "ipython3",
   "version": "3.8.11"
  }
 },
 "nbformat": 4,
 "nbformat_minor": 5
}
