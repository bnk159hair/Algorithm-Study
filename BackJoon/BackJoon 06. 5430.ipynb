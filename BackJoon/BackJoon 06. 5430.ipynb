{
 "cells": [
  {
   "cell_type": "code",
   "execution_count": null,
   "id": "6b7b0a0c",
   "metadata": {},
   "outputs": [],
   "source": [
    "from collections import deque\n",
    "import sys\n",
    "\n",
    "input = sys.stdin.readline"
   ]
  },
  {
   "cell_type": "code",
   "execution_count": null,
   "id": "b32857e4",
   "metadata": {},
   "outputs": [],
   "source": [
    "from collections import deque\n",
    "import sys\n",
    "\n",
    "input = sys.stdin.readline\n",
    "\n",
    "T = int(input())\n",
    "\n",
    "for _ in range(T):\n",
    "    string = input().rstrip()\n",
    "    num = int(input())\n",
    "    dq = deque(input().rstrip()[1:-1].split(','))\n",
    "    \n",
    "    if num == 0:\n",
    "        dq = []\n",
    "    \n",
    "    check_reverse = 0\n",
    "    state = False\n",
    "    for i in range(len(string)):\n",
    "        if string[i]=='R':\n",
    "            check_reverse += 1\n",
    "        elif string[i]=='D':\n",
    "            if check_reverse % 2 == 1:\n",
    "                dq.reverse()\n",
    "            check_reverse = 0\n",
    "            if dq:\n",
    "                dq.popleft()\n",
    "            else:\n",
    "                print('error')\n",
    "                state = True\n",
    "                break\n",
    "    if state == False:\n",
    "        print(\"[\"+\",\".join(dq)+\"]\")"
   ]
  },
  {
   "cell_type": "markdown",
   "id": "b42ef5be",
   "metadata": {},
   "source": [
    "## 위는 틀린 코드 아래는 정답코드\n",
    "#### 순서바꿔주는 부분을 변경하니 잘되더라 뭘까\n",
    "\n",
    "-> 백준 질문의 답변을 보면 R명령만 홀수 있는 경우에는 D가 수행을 하지 않으니\n",
    "정답이 될수 없더라 이더라"
   ]
  },
  {
   "cell_type": "code",
   "execution_count": 9,
   "id": "ef652df6",
   "metadata": {},
   "outputs": [
    {
     "ename": "IndexError",
     "evalue": "string index out of range",
     "output_type": "error",
     "traceback": [
      "\u001b[1;31m---------------------------------------------------------------------------\u001b[0m",
      "\u001b[1;31mIndexError\u001b[0m                                Traceback (most recent call last)",
      "\u001b[1;32m<ipython-input-9-cd926ace4237>\u001b[0m in \u001b[0;36m<module>\u001b[1;34m\u001b[0m\n\u001b[0;32m      1\u001b[0m \u001b[0mtemp\u001b[0m \u001b[1;33m=\u001b[0m \u001b[1;34m\"DSDDSD\"\u001b[0m\u001b[1;33m\u001b[0m\u001b[1;33m\u001b[0m\u001b[0m\n\u001b[1;32m----> 2\u001b[1;33m \u001b[0mprint\u001b[0m\u001b[1;33m(\u001b[0m\u001b[0mtemp\u001b[0m\u001b[1;33m[\u001b[0m\u001b[1;36m6\u001b[0m\u001b[1;33m]\u001b[0m\u001b[1;33m)\u001b[0m\u001b[1;33m\u001b[0m\u001b[1;33m\u001b[0m\u001b[0m\n\u001b[0m",
      "\u001b[1;31mIndexError\u001b[0m: string index out of range"
     ]
    }
   ],
   "source": [
    "from collections import deque\n",
    "import sys\n",
    "\n",
    "input = sys.stdin.readline\n",
    "\n",
    "T = int(input())\n",
    "\n",
    "for _ in range(T):\n",
    "    string = input().rstrip()\n",
    "    num = int(input())\n",
    "    dq = deque(input().rstrip()[1:-1].split(','))\n",
    "    \n",
    "    if num == 0:\n",
    "        dq = []\n",
    "    \n",
    "    check_reverse = 0\n",
    "    state = False\n",
    "    for i in range(len(string)):\n",
    "        if string[i]=='R':\n",
    "            check_reverse += 1\n",
    "        elif string[i]=='D':\n",
    "            if dq:\n",
    "                if check_reverse % 2 == 1:\n",
    "                    dq.pop()\n",
    "                else:\n",
    "                    dp.popleft()\n",
    "            else:\n",
    "                print('error')\n",
    "                state = True\n",
    "                break\n",
    "\n",
    "    if state == False:\n",
    "        if check_reverse % 2 ==0 :\n",
    "            print(\"[\"+\",\".join(dq)+\"]\")\n",
    "        else:\n",
    "            dq.reverse()\n",
    "            print(\"[\"+\",\".join(dq)+\"]\")"
   ]
  },
  {
   "cell_type": "code",
   "execution_count": null,
   "id": "a6381980",
   "metadata": {},
   "outputs": [],
   "source": []
  }
 ],
 "metadata": {
  "kernelspec": {
   "display_name": "Python 3",
   "language": "python",
   "name": "python3"
  },
  "language_info": {
   "codemirror_mode": {
    "name": "ipython",
    "version": 3
   },
   "file_extension": ".py",
   "mimetype": "text/x-python",
   "name": "python",
   "nbconvert_exporter": "python",
   "pygments_lexer": "ipython3",
   "version": "3.8.11"
  }
 },
 "nbformat": 4,
 "nbformat_minor": 5
}
