{
 "cells": [
  {
   "cell_type": "markdown",
   "id": "0874451f",
   "metadata": {},
   "source": [
    "### 처음 시도 했던 코드 - 시간 초과, 알고리즘이 틀림"
   ]
  },
  {
   "cell_type": "code",
   "execution_count": 5,
   "id": "ca565c72",
   "metadata": {},
   "outputs": [
    {
     "name": "stdout",
     "output_type": "stream",
     "text": [
      "5 10\n",
      "1 2\n",
      "1 2\n",
      "1 2\n",
      "1 2\n",
      "1 2\n",
      "2\n"
     ]
    }
   ],
   "source": [
    "#import sys\n",
    "#input = sys.stdin.readline\n",
    "\n",
    "N, K = list(map(int, input().split()))\n",
    "\n",
    "arr = [list(map(int, input().split())) for _ in range(N)]\n",
    "dp = [0 for _ in range(K+1)]\n",
    "\n",
    "for i in range(N):\n",
    "    dp[arr[i][0]] = max(dp[arr[i][0]], arr[i][1])\n",
    "    \n",
    "for i in range(1, K+1):\n",
    "    if dp[i] > 0:\n",
    "        for j in range(i+1, K+1-i):\n",
    "            if dp[j]>0 and i != j and i+j < K+1:\n",
    "                dp[i+j] = max(dp[i+j], dp[i]+dp[j])\n",
    "            \n",
    "print(max(dp))\n",
    "    "
   ]
  },
  {
   "cell_type": "markdown",
   "id": "ad4074b2",
   "metadata": {},
   "source": [
    "### 두번째 시도한 코드 - for 문이 도는 양을 줄였지만 알고리즘이 틀림"
   ]
  },
  {
   "cell_type": "code",
   "execution_count": 4,
   "id": "c6fa0fff",
   "metadata": {},
   "outputs": [
    {
     "name": "stdout",
     "output_type": "stream",
     "text": [
      "5 10\n",
      "1 2\n",
      "1 2\n",
      "1 2\n",
      "1 2\n",
      "1 2\n",
      "4\n"
     ]
    }
   ],
   "source": [
    "#import sys\n",
    "#input = sys.stdin.readline\n",
    "\n",
    "N, K = list(map(int, input().split()))\n",
    "\n",
    "arr = [list(map(int, input().split())) for _ in range(N)]\n",
    "dp = [0 for _ in range(K+1)]\n",
    "\n",
    "for i in range(N):\n",
    "    dp[arr[i][0]] = max(dp[arr[i][0]], arr[i][1])\n",
    "    \n",
    "for i in range(N):\n",
    "    for j in range(i+1, N):\n",
    "        if arr[i][0]+arr[j][0]<K+1 and i != j :\n",
    "            dp[arr[i][0]+arr[j][0]] = max(dp[arr[i][0]+arr[j][0]], arr[i][1] + arr[j][1])\n",
    "\n",
    "            \n",
    "print(max(dp))\n",
    "    "
   ]
  },
  {
   "cell_type": "markdown",
   "id": "1b1fe89b",
   "metadata": {},
   "source": [
    "### 블로그 내용을 보고 참고한 코드\n",
    "애초에 dp 테이블을 1차원으로 정의할게 아니라 n번째까지 선택한 것중 가장 많이 가치가 높은 상황을 위해 2차원으로 정의했어야 했다.  \n",
    "또한 점화식의 경우에는 i번째가지 선택하고 무게가 j인 상황인 dp[i][j]에 대해  \n",
    "max(dp[i-1][j], dp[i-1][j-arr[i][0]] + arr[i][1]) 와 같이 정의할 수 있다.  \n",
    "하지만 j가 arr[i][0]보다 작은 경우일 때는 인덱스 에러가 나기에  \n",
    "해당 부분일 때는 무조건 dp[i-1][j]가 값이 되도록 예외처리를 한다.  "
   ]
  },
  {
   "cell_type": "code",
   "execution_count": 7,
   "id": "fd83f6c4",
   "metadata": {},
   "outputs": [
    {
     "name": "stdout",
     "output_type": "stream",
     "text": [
      "5 10\n",
      "1 2\n",
      "1 2\n",
      "1 2\n",
      "1 2\n",
      "1 2\n",
      "10\n"
     ]
    }
   ],
   "source": [
    "#import sys\n",
    "#input = sys.stdin.readline\n",
    "\n",
    "N, K = list(map(int, input().split()))\n",
    "\n",
    "arr = [[0,0]]\n",
    "for _ in range(N):\n",
    "    arr.append(list(map(int, input().split())))\n",
    "\n",
    "dp = [[0 for _ in range(K+1)] for _ in range(N+1)]\n",
    "\n",
    "for i in range(1, N+1):\n",
    "    for j in range(1, K+1):\n",
    "        if j < arr[i][0]:\n",
    "            dp[i][j] = dp[i-1][j]\n",
    "        else:\n",
    "            dp[i][j] = max(dp[i-1][j], dp[i-1][j-arr[i][0]] + arr[i][1])\n",
    "print(dp[N][K])"
   ]
  },
  {
   "cell_type": "code",
   "execution_count": null,
   "id": "dda23751",
   "metadata": {},
   "outputs": [],
   "source": []
  }
 ],
 "metadata": {
  "kernelspec": {
   "display_name": "Python 3",
   "language": "python",
   "name": "python3"
  },
  "language_info": {
   "codemirror_mode": {
    "name": "ipython",
    "version": 3
   },
   "file_extension": ".py",
   "mimetype": "text/x-python",
   "name": "python",
   "nbconvert_exporter": "python",
   "pygments_lexer": "ipython3",
   "version": "3.8.11"
  }
 },
 "nbformat": 4,
 "nbformat_minor": 5
}
