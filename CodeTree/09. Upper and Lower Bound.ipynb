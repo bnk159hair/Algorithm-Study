{
 "cells": [
  {
   "cell_type": "code",
   "execution_count": null,
   "id": "740affff",
   "metadata": {},
   "outputs": [],
   "source": [
    "N, M = list(map(int, input().split()))\n",
    "arr = list(map(int, input().split()))\n",
    "\n",
    "def lower(target):\n",
    "    left = 0\n",
    "    right = N - 1\n",
    "    min_idx = N\n",
    "\n",
    "    while left <= right:\n",
    "        mid = (left + right) // 2\n",
    "        if arr[mid] >= target:\n",
    "            right = mid - 1\n",
    "            min_idx = min(min_idx, mid)\n",
    "        elif arr[mid] < target:\n",
    "            left = mid + 1\n",
    "\n",
    "    return min_idx\n",
    "\n",
    "def upper(target):\n",
    "    left = 0\n",
    "    right = N - 1\n",
    "    min_idx = N\n",
    "\n",
    "    while left <= right:\n",
    "        mid = (left + right) // 2\n",
    "        if arr[mid] > target:\n",
    "            right = mid - 1\n",
    "            min_idx = min(min_idx, mid)\n",
    "        elif arr[mid] <= target:\n",
    "            left = mid + 1\n",
    "\n",
    "    return min_idx\n",
    "\n",
    "for i in range(M):\n",
    "    temp = int(input())\n",
    "    print(upper(temp) - lower(temp))"
   ]
  }
 ],
 "metadata": {
  "kernelspec": {
   "display_name": "Python 3",
   "language": "python",
   "name": "python3"
  },
  "language_info": {
   "codemirror_mode": {
    "name": "ipython",
    "version": 3
   },
   "file_extension": ".py",
   "mimetype": "text/x-python",
   "name": "python",
   "nbconvert_exporter": "python",
   "pygments_lexer": "ipython3",
   "version": "3.8.11"
  }
 },
 "nbformat": 4,
 "nbformat_minor": 5
}
