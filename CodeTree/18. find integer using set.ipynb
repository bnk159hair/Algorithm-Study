{
 "cells": [
  {
   "cell_type": "code",
   "execution_count": null,
   "id": "24841926",
   "metadata": {},
   "outputs": [],
   "source": [
    "N1 = int(input())\n",
    "arr1 = set(list(map(int, input().split())))\n",
    "N2 = int(input())\n",
    "arr2 = list(map(int, input().split()))\n",
    "\n",
    "for i in arr2:\n",
    "    print(int(i in arr1))"
   ]
  }
 ],
 "metadata": {
  "kernelspec": {
   "display_name": "Python 3",
   "language": "python",
   "name": "python3"
  },
  "language_info": {
   "codemirror_mode": {
    "name": "ipython",
    "version": 3
   },
   "file_extension": ".py",
   "mimetype": "text/x-python",
   "name": "python",
   "nbconvert_exporter": "python",
   "pygments_lexer": "ipython3",
   "version": "3.8.11"
  }
 },
 "nbformat": 4,
 "nbformat_minor": 5
}
