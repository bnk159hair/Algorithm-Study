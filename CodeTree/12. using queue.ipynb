{
 "cells": [
  {
   "cell_type": "code",
   "execution_count": null,
   "id": "874461d2",
   "metadata": {},
   "outputs": [],
   "source": [
    "from collections import deque\n",
    "\n",
    "class Queue:\n",
    "    def __init__(self):\n",
    "        self.items = deque()\n",
    "    def push(self,item):\n",
    "        self.items.append(item)\n",
    "    def empty(self):\n",
    "        return int(not self.items)\n",
    "    def size(self):\n",
    "        return len(self.items)\n",
    "    def pop(self):\n",
    "        if self.empty():\n",
    "            return -1\n",
    "        return self.items.popleft()\n",
    "    def front(self):\n",
    "        if self.empty():\n",
    "            return -1\n",
    "        return self.items[0]\n",
    "\n",
    "n = int(input())\n",
    "queue = Queue()\n",
    "\n",
    "for _ in range(n):\n",
    "    string = input()\n",
    "    if string == \"size\":\n",
    "        print(queue.size())\n",
    "    elif string == \"empty\":\n",
    "        print(queue.empty())\n",
    "    elif string == \"pop\":\n",
    "        print(queue.pop())\n",
    "    elif string == \"front\":\n",
    "        print(queue.front())\n",
    "    else:\n",
    "        _, n = string.split()\n",
    "        n = int(n)\n",
    "        queue.push(n)"
   ]
  }
 ],
 "metadata": {
  "kernelspec": {
   "display_name": "Python 3",
   "language": "python",
   "name": "python3"
  },
  "language_info": {
   "codemirror_mode": {
    "name": "ipython",
    "version": 3
   },
   "file_extension": ".py",
   "mimetype": "text/x-python",
   "name": "python",
   "nbconvert_exporter": "python",
   "pygments_lexer": "ipython3",
   "version": "3.8.11"
  }
 },
 "nbformat": 4,
 "nbformat_minor": 5
}
