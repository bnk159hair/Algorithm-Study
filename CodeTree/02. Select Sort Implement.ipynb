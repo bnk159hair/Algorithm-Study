{
 "cells": [
  {
   "cell_type": "code",
   "execution_count": 1,
   "id": "42a8287c",
   "metadata": {},
   "outputs": [
    {
     "name": "stdout",
     "output_type": "stream",
     "text": [
      "6\n",
      "5 2 6 1 3 8\n",
      "1 2 3 5 6 8\n"
     ]
    }
   ],
   "source": [
    "n = int(input())\n",
    "\n",
    "arr = list(map(int, input().split()))\n",
    "\n",
    "for i in range(n-1):\n",
    "    min_val = i\n",
    "    for j in range(i+1, n):\n",
    "        if arr[j]<arr[min_val]:\n",
    "            min_val = j\n",
    "    tmp = arr[min_val]\n",
    "    arr[min_val]= arr[i]\n",
    "    arr[i]=tmp\n",
    "\n",
    "print(\" \".join(str(i) for i in arr))"
   ]
  },
  {
   "cell_type": "code",
   "execution_count": null,
   "id": "e31212af",
   "metadata": {},
   "outputs": [],
   "source": []
  }
 ],
 "metadata": {
  "kernelspec": {
   "display_name": "Python 3",
   "language": "python",
   "name": "python3"
  },
  "language_info": {
   "codemirror_mode": {
    "name": "ipython",
    "version": 3
   },
   "file_extension": ".py",
   "mimetype": "text/x-python",
   "name": "python",
   "nbconvert_exporter": "python",
   "pygments_lexer": "ipython3",
   "version": "3.8.11"
  }
 },
 "nbformat": 4,
 "nbformat_minor": 5
}
