{
 "cells": [
  {
   "cell_type": "code",
   "execution_count": null,
   "id": "7c42bf08",
   "metadata": {},
   "outputs": [],
   "source": [
    "num, x, y = list(map(int, input().split()))\n",
    "arr = [list(map(int, input().split())) for _ in range(num)]\n",
    "x, y =[x-1, y-1]\n",
    "dx = [-1, 1, 0, 0]\n",
    "dy = [0, 0, -1, 1]\n",
    "Max = arr[x][y]\n",
    "Max_x, Max_y = [0,0]\n",
    "while True:\n",
    "    temp_x = x\n",
    "    temp_y = y\n",
    "    print(arr[x][y], end=\" \")\n",
    "    for i in range(4):\n",
    "        if (0 <= x + dx[i] and x + dx[i] < num) and (0 <= y + dy[i] and y + dy[i] < num):\n",
    "            if Max < arr[x+dx[i]][y+dy[i]]:\n",
    "                Max = arr[x+dx[i]][y+dy[i]]\n",
    "                x = x+dx[i]\n",
    "                y = y+dy[i]\n",
    "                break\n",
    "                \n",
    "    if temp_x == x and temp_y == y:\n",
    "        break\n",
    "\n"
   ]
  }
 ],
 "metadata": {
  "kernelspec": {
   "display_name": "Python 3",
   "language": "python",
   "name": "python3"
  },
  "language_info": {
   "codemirror_mode": {
    "name": "ipython",
    "version": 3
   },
   "file_extension": ".py",
   "mimetype": "text/x-python",
   "name": "python",
   "nbconvert_exporter": "python",
   "pygments_lexer": "ipython3",
   "version": "3.8.11"
  }
 },
 "nbformat": 4,
 "nbformat_minor": 5
}
