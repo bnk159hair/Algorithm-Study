{
 "cells": [
  {
   "cell_type": "code",
   "execution_count": null,
   "id": "d15abb3b",
   "metadata": {},
   "outputs": [],
   "source": [
    "n, t = list(map(int, input().split()))\n",
    "arr = [list(map(int, input().split())) for _ in range(2)]\n",
    "\n",
    "for _ in range(t):\n",
    "    temp_01 = arr[1][n-1]\n",
    "    temp_02 = arr[0][n-1]\n",
    "    for i in range(n-1, 0, -1):\n",
    "        arr[0][i]=arr[0][i-1]\n",
    "    for i in range(n-1, 0, -1):\n",
    "        arr[1][i]=arr[1][i-1] \n",
    "    arr[0][0] = temp_01\n",
    "    arr[1][0] = temp_02\n",
    "\n",
    "for i in range(2):\n",
    "    for j in range(n):\n",
    "        print(arr[i][j], end=\" \")\n",
    "    print(\"\")"
   ]
  }
 ],
 "metadata": {
  "kernelspec": {
   "display_name": "Python 3",
   "language": "python",
   "name": "python3"
  },
  "language_info": {
   "codemirror_mode": {
    "name": "ipython",
    "version": 3
   },
   "file_extension": ".py",
   "mimetype": "text/x-python",
   "name": "python",
   "nbconvert_exporter": "python",
   "pygments_lexer": "ipython3",
   "version": "3.8.11"
  }
 },
 "nbformat": 4,
 "nbformat_minor": 5
}
