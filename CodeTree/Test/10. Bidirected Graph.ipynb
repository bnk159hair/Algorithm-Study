{
 "cells": [
  {
   "cell_type": "markdown",
   "id": "312301e0",
   "metadata": {},
   "source": [
    "# DFS는 꼭 재귀로"
   ]
  },
  {
   "cell_type": "code",
   "execution_count": null,
   "id": "df2339c2",
   "metadata": {},
   "outputs": [],
   "source": [
    "import sys\n",
    "input = sys.stdin.readline\n",
    "\n",
    "N, M = list(map(int, input().split()))\n",
    "\n",
    "Map = [[0 for _ in range(N+1)] for _ in range(N+1)]\n",
    "\n",
    "for i in range(M):\n",
    "    x, y = list(map(int, input().split()))\n",
    "    Map[x][y] = True\n",
    "    Map[y][x] = True\n",
    "\n",
    "visited = [False for _ in range(N+1)]\n",
    "count = 0\n",
    "def dfs(vertex:int):\n",
    "    global count\n",
    "    visited[vertex] = True\n",
    "    for i in range(1, N+1):\n",
    "        if Map[vertex][i]==True:\n",
    "            if not visited[i]:\n",
    "                count +=1\n",
    "                dfs(i)\n",
    "dfs(1)\n",
    "print(count)"
   ]
  },
  {
   "cell_type": "markdown",
   "id": "4a30e32d",
   "metadata": {},
   "source": [
    "## 리스트로 만든 코드트리 정답"
   ]
  },
  {
   "cell_type": "code",
   "execution_count": null,
   "id": "763e5831",
   "metadata": {},
   "outputs": [],
   "source": [
    "# 변수 선언 및 입력\n",
    "n, m = tuple(map(int, input().split()))\n",
    "\n",
    "#index를 1번 부터 사용하기 위해 m+1만큼 할당합니다.\n",
    "graph = [[] for _ in range(n + 1)]\n",
    "\n",
    "visited = [False for _ in range(n + 1)]\n",
    "vertex_cnt = 0\n",
    "\n",
    "\n",
    "def dfs(vertex):\n",
    "    global vertex_cnt\n",
    "    \n",
    "    # 해당 정점에서 이어져있는 모든 정점을 탐색해줍니다.\n",
    "    for curr_v in graph[vertex]:\n",
    "        # 아직 간선이 존재하고 방문한 적이 없는 정점에 대해서만 탐색을 진행합니다.\n",
    "        if not visited[curr_v]:\n",
    "            visited[curr_v] = True\n",
    "            vertex_cnt += 1\n",
    "            dfs(curr_v)\n",
    "    \n",
    "    \n",
    "for i in range(m):\n",
    "    v1, v2 = tuple(map(int, input().split()))\n",
    "\n",
    "    # 각 정점이 서로 이동이 가능한 양방향 그래프이기 때문에\n",
    "    # 각 정점에 대한 간선을 각각 저장해줍니다.\n",
    "    graph[v1].append(v2)\n",
    "    graph[v2].append(v1)\n",
    "\n",
    "visited[1] = True\n",
    "dfs(1)\n",
    "\n",
    "print(vertex_cnt)"
   ]
  }
 ],
 "metadata": {
  "kernelspec": {
   "display_name": "Python 3",
   "language": "python",
   "name": "python3"
  },
  "language_info": {
   "codemirror_mode": {
    "name": "ipython",
    "version": 3
   },
   "file_extension": ".py",
   "mimetype": "text/x-python",
   "name": "python",
   "nbconvert_exporter": "python",
   "pygments_lexer": "ipython3",
   "version": "3.8.11"
  }
 },
 "nbformat": 4,
 "nbformat_minor": 5
}
