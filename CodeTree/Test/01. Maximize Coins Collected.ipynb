{
 "cells": [
  {
   "cell_type": "code",
   "execution_count": null,
   "id": "93e51ed0",
   "metadata": {},
   "outputs": [],
   "source": [
    "num = int(input())\n",
    "arr = [list(map(int, input().split())) for _ in range(num)]\n",
    "\n",
    "def find_num(i, j, arr):\n",
    "    num=0\n",
    "    for i_0 in range(3):\n",
    "        for j_0 in range(3):\n",
    "            num += arr[i+i_0][j+j_0]\n",
    "    return num\n",
    "\n",
    "Max=0\n",
    "for i in range(num-2):\n",
    "    temp = 0\n",
    "    for j in range(num-2):\n",
    "        temp = find_num(i, j, arr)\n",
    "        Max = max(Max, temp)\n",
    "\n",
    "print(Max)"
   ]
  }
 ],
 "metadata": {
  "kernelspec": {
   "display_name": "Python 3",
   "language": "python",
   "name": "python3"
  },
  "language_info": {
   "codemirror_mode": {
    "name": "ipython",
    "version": 3
   },
   "file_extension": ".py",
   "mimetype": "text/x-python",
   "name": "python",
   "nbconvert_exporter": "python",
   "pygments_lexer": "ipython3",
   "version": "3.8.11"
  }
 },
 "nbformat": 4,
 "nbformat_minor": 5
}
