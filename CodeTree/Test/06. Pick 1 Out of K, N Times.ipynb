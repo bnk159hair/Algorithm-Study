{
 "cells": [
  {
   "cell_type": "code",
   "execution_count": null,
   "id": "adc6067b",
   "metadata": {},
   "outputs": [],
   "source": [
    "K, N = tuple(map(int, input().split()))\n",
    "\n",
    "def Select(Th:int, string:str):\n",
    "    global N, K \n",
    "\n",
    "    if Th == N:\n",
    "        print(*string)\n",
    "        return\n",
    "    \n",
    "    for i in range(1, K+1):\n",
    "        Select(Th+1, string+str(i))\n",
    "\n",
    "Select(0, \"\")"
   ]
  }
 ],
 "metadata": {
  "kernelspec": {
   "display_name": "Python 3",
   "language": "python",
   "name": "python3"
  },
  "language_info": {
   "codemirror_mode": {
    "name": "ipython",
    "version": 3
   },
   "file_extension": ".py",
   "mimetype": "text/x-python",
   "name": "python",
   "nbconvert_exporter": "python",
   "pygments_lexer": "ipython3",
   "version": "3.8.11"
  }
 },
 "nbformat": 4,
 "nbformat_minor": 5
}
