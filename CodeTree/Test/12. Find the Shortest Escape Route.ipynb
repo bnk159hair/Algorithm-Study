{
 "cells": [
  {
   "cell_type": "code",
   "execution_count": null,
   "id": "6801f2af",
   "metadata": {},
   "outputs": [],
   "source": [
    "from collections import deque\n",
    "import sys\n",
    "\n",
    "input = sys.stdin.readline\n",
    "\n",
    "N, M = map(int, input().split())\n",
    "\n",
    "Map = [list(map(int, input().split())) for _ in range(N)]\n",
    "visited = [[False for _ in range(M)] for _ in range(N)]\n",
    "dist = [[0 for _ in range(M)] for _ in range(N)]\n",
    "\n",
    "def Range(x, y):\n",
    "    return 0<=x and x<N and 0<=y and y<M\n",
    "def cango(x, y):\n",
    "    return Range(x, y) and Map[x][y]==1\n",
    "def push(x, y, num):\n",
    "    dq.append((x, y))\n",
    "    visited[x][y] = True\n",
    "    dist[x][y] =num\n",
    "\n",
    "\n",
    "def BFS():\n",
    "    dxs, dys = [-1, 1, 0, 0], [0, 0, -1, 1]\n",
    "    \n",
    "    while dq:\n",
    "        x, y = dq.popleft()\n",
    "        for dx,dy in zip(dxs,dys):\n",
    "            if cango(x+dx, y+dy) and visited[x+dx][y+dy]==False:\n",
    "                push(x+dx, y+dy, dist[x][y]+1)\n",
    "            \n",
    "\n",
    "\n",
    "dq = deque()\n",
    "push(0, 0, 0)\n",
    "\n",
    "BFS()\n",
    "\n",
    "answer = dist[N-1][M-1] if visited[N-1][M-1] else -1\n",
    "print(answer)\n",
    "\n",
    "\n",
    "\n",
    "\n"
   ]
  }
 ],
 "metadata": {
  "kernelspec": {
   "display_name": "Python 3",
   "language": "python",
   "name": "python3"
  },
  "language_info": {
   "codemirror_mode": {
    "name": "ipython",
    "version": 3
   },
   "file_extension": ".py",
   "mimetype": "text/x-python",
   "name": "python",
   "nbconvert_exporter": "python",
   "pygments_lexer": "ipython3",
   "version": "3.8.11"
  }
 },
 "nbformat": 4,
 "nbformat_minor": 5
}
