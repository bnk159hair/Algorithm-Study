{
 "cells": [
  {
   "cell_type": "code",
   "execution_count": null,
   "id": "78abb09e",
   "metadata": {},
   "outputs": [],
   "source": [
    "num = int(input())\n",
    "arr = [int(input()) for _ in range(num)]\n",
    "s_1, e_1 = list(map(int, input().split()))\n",
    "s_2, e_2 = list(map(int, input().split()))\n",
    "temp =[]\n",
    "for i in range(0, s_1-1):\n",
    "    temp.append(arr[i])\n",
    "for i in range(e_1, num):\n",
    "    temp.append(arr[i])\n",
    "\n",
    "result = []\n",
    "for i in range(0, s_2-1):\n",
    "    result.append(temp[i])\n",
    "for i in range(e_2, len(temp)):\n",
    "    result.append(temp[i])\n",
    "\n",
    "print(len(result))\n",
    "for i in range(len(result)):\n",
    "    print(result[i])"
   ]
  }
 ],
 "metadata": {
  "kernelspec": {
   "display_name": "Python 3",
   "language": "python",
   "name": "python3"
  },
  "language_info": {
   "codemirror_mode": {
    "name": "ipython",
    "version": 3
   },
   "file_extension": ".py",
   "mimetype": "text/x-python",
   "name": "python",
   "nbconvert_exporter": "python",
   "pygments_lexer": "ipython3",
   "version": "3.8.11"
  }
 },
 "nbformat": 4,
 "nbformat_minor": 5
}
