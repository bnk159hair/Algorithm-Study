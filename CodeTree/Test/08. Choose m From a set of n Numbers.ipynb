{
 "cells": [
  {
   "cell_type": "code",
   "execution_count": null,
   "id": "166d72cc",
   "metadata": {},
   "outputs": [],
   "source": [
    "N, M = tuple(map(int, input().split()))\n",
    "\n",
    "def Select(Th:int, string:str):\n",
    "    global N,M\n",
    "    if Th==M+1:\n",
    "        print(*string)\n",
    "        return\n",
    "    if Th == 1:\n",
    "        for i in range(1, N-M+2):\n",
    "            Select(Th+1, string+str(i))\n",
    "    else:\n",
    "        temp = int(string[-1])\n",
    "        if N-temp >= M-Th:\n",
    "            for i in range(temp, N+1):\n",
    "                Select(Th+1, string+str(i))\n",
    "\n",
    "Select(1, \"\")"
   ]
  },
  {
   "cell_type": "markdown",
   "id": "77a3e4d1",
   "metadata": {},
   "source": [
    "## 나의 정답"
   ]
  },
  {
   "cell_type": "code",
   "execution_count": 1,
   "id": "be540b09",
   "metadata": {},
   "outputs": [
    {
     "name": "stdout",
     "output_type": "stream",
     "text": [
      "4 4\n",
      "1 2 3 4 \n"
     ]
    }
   ],
   "source": [
    "N, M = tuple(map(int, input().split()))\n",
    "\n",
    "def Select(Th:int, string:list):\n",
    "    global N,M\n",
    "    if Th==M+1:\n",
    "        for i in string:\n",
    "            print(i, end=\" \")\n",
    "        print(\"\")    \n",
    "        return\n",
    "    if Th == 1:\n",
    "        for i in range(1, N-M+2):\n",
    "            string.append(i)\n",
    "            Select(Th+1, string)\n",
    "            string.pop()\n",
    "    else:\n",
    "        temp = string[-1]\n",
    "        if N-temp >= M-Th:\n",
    "            for i in range(temp+1, N+1):\n",
    "                string.append(i)\n",
    "                Select(Th+1, string)\n",
    "                string.pop()\n",
    "\n",
    "Select(1, [])"
   ]
  },
  {
   "cell_type": "markdown",
   "id": "da806964",
   "metadata": {},
   "source": [
    "## 코드트리 정답"
   ]
  },
  {
   "cell_type": "code",
   "execution_count": null,
   "id": "c26fe465",
   "metadata": {},
   "outputs": [],
   "source": [
    "# 변수 선언 및 입력\n",
    "\n",
    "n, m = tuple(map(int, input().split()))\n",
    "combination = []\n",
    "\n",
    "\n",
    "# 방문한 원소들을 출력해줍니다.\n",
    "def print_combination():\n",
    "    for elem in combination:\n",
    "        print(elem, end = \" \")\n",
    "    \n",
    "    print()\n",
    "\n",
    "\n",
    "def find_combination(curr_num, cnt):\n",
    "    # n개의 숫자를 모두 탐색했으면 더 이상 탐색하지 않습니다.\n",
    "    if curr_num == n + 1:\n",
    "        # 탐색하는 과정에서 m개의 숫자를 뽑은 경우 답을 출력해줍니다.\n",
    "        if cnt == m:\n",
    "            print_combination()\n",
    "        return\n",
    "\n",
    "    # curr_num에 해당하는 숫자를 사용했을 때의 경우를 탐색합니다.\n",
    "    combination.append(curr_num)\n",
    "    find_combination(curr_num + 1, cnt + 1)\n",
    "    combination.pop()\n",
    "\n",
    "    # curr_num에 해당하는 숫자를 사용하지 않았을 때의 경우를 탐색합니다.\n",
    "    find_combination(curr_num + 1, cnt)\n",
    "\n",
    "\n",
    "find_combination(1, 0)"
   ]
  },
  {
   "cell_type": "markdown",
   "id": "b7c88d4c",
   "metadata": {},
   "source": [
    "이전 문제에서처럼 이진수로 하고 그 인덱스를 출력하는 방법도 있음\n",
    "위의 코드트리 정답은 가지치기는 안함"
   ]
  },
  {
   "cell_type": "markdown",
   "id": "26852f72",
   "metadata": {},
   "source": [
    "## 새로운 코드트리 정답"
   ]
  },
  {
   "cell_type": "code",
   "execution_count": null,
   "id": "4c6ce012",
   "metadata": {},
   "outputs": [],
   "source": [
    "import sys\n",
    "N, M = map(int, sys.stdin.readline().split())\n",
    "\n",
    "def Choose(x, selected):\n",
    "    global N, M\n",
    "    if x== N+1:\n",
    "        if len(selected) == M:\n",
    "            for x in selected:\n",
    "                print(x, end=\" \")\n",
    "            print()\n",
    "        return\n",
    "\n",
    "    if len(selected)<M:\n",
    "        Choose(x+1, selected + [x])\n",
    "    Choose(x + 1, selected)\n",
    "\n",
    "Choose(1, [])"
   ]
  }
 ],
 "metadata": {
  "kernelspec": {
   "display_name": "Python 3",
   "language": "python",
   "name": "python3"
  },
  "language_info": {
   "codemirror_mode": {
    "name": "ipython",
    "version": 3
   },
   "file_extension": ".py",
   "mimetype": "text/x-python",
   "name": "python",
   "nbconvert_exporter": "python",
   "pygments_lexer": "ipython3",
   "version": "3.8.11"
  }
 },
 "nbformat": 4,
 "nbformat_minor": 5
}
