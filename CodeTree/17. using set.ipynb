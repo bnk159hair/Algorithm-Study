{
 "cells": [
  {
   "cell_type": "code",
   "execution_count": null,
   "id": "9f50c2c7",
   "metadata": {},
   "outputs": [],
   "source": [
    "N = int(input())\n",
    "\n",
    "arr= set()\n",
    "\n",
    "for _ in range(N):\n",
    "    string, num = input().split()\n",
    "    num = int(num)\n",
    "    if string == \"add\":\n",
    "        if num not in arr:\n",
    "            arr.add(num)\n",
    "    elif string == \"remove\":\n",
    "        arr.remove(num)\n",
    "    elif string == \"find\":\n",
    "        if num in arr:\n",
    "            print(\"true\")\n",
    "        else:\n",
    "            print(\"false\")s"
   ]
  }
 ],
 "metadata": {
  "kernelspec": {
   "display_name": "Python 3",
   "language": "python",
   "name": "python3"
  },
  "language_info": {
   "codemirror_mode": {
    "name": "ipython",
    "version": 3
   },
   "file_extension": ".py",
   "mimetype": "text/x-python",
   "name": "python",
   "nbconvert_exporter": "python",
   "pygments_lexer": "ipython3",
   "version": "3.8.11"
  }
 },
 "nbformat": 4,
 "nbformat_minor": 5
}
