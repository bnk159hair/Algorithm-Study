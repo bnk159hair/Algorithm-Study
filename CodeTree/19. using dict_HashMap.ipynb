{
 "cells": [
  {
   "cell_type": "code",
   "execution_count": null,
   "id": "a6bd11c0",
   "metadata": {},
   "outputs": [],
   "source": [
    "N = int(input())\n",
    "\n",
    "arr= {}\n",
    "\n",
    "for _ in range(N):\n",
    "    inval = list(input().split())\n",
    "    string = inval[0]\n",
    "    K = int(inval[1])\n",
    "    if string == \"add\":\n",
    "        V = int(inval[2])\n",
    "        arr[K] = V\n",
    "    elif string == \"remove\":\n",
    "        arr.pop(K)\n",
    "    elif string == \"find\":\n",
    "        if K in arr:\n",
    "            print(arr[K])\n",
    "        else:\n",
    "            print(\"None\")"
   ]
  }
 ],
 "metadata": {
  "kernelspec": {
   "display_name": "Python 3",
   "language": "python",
   "name": "python3"
  },
  "language_info": {
   "codemirror_mode": {
    "name": "ipython",
    "version": 3
   },
   "file_extension": ".py",
   "mimetype": "text/x-python",
   "name": "python",
   "nbconvert_exporter": "python",
   "pygments_lexer": "ipython3",
   "version": "3.8.11"
  }
 },
 "nbformat": 4,
 "nbformat_minor": 5
}
