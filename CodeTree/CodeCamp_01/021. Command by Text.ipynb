{
 "cells": [
  {
   "cell_type": "code",
   "execution_count": null,
   "id": "fb0a6cb1",
   "metadata": {},
   "outputs": [],
   "source": [
    "arr= input()\n",
    "direction =0\n",
    "X, Y =0, 0\n",
    "\n",
    "direc_x = [0, 1, 0, -1]\n",
    "direc_y = [1, 0, -1, 0]\n",
    "diction = {'L': 3, 'R':1}\n",
    "for i in arr:\n",
    "    if i =='F':\n",
    "        X, Y = X+direc_x[direction], Y+direc_y[direction]\n",
    "    else:\n",
    "        direction = (direction +diction[i])%4\n",
    "\n",
    "print(X, Y)\n"
   ]
  }
 ],
 "metadata": {
  "kernelspec": {
   "display_name": "Python 3",
   "language": "python",
   "name": "python3"
  },
  "language_info": {
   "codemirror_mode": {
    "name": "ipython",
    "version": 3
   },
   "file_extension": ".py",
   "mimetype": "text/x-python",
   "name": "python",
   "nbconvert_exporter": "python",
   "pygments_lexer": "ipython3",
   "version": "3.8.11"
  }
 },
 "nbformat": 4,
 "nbformat_minor": 5
}
