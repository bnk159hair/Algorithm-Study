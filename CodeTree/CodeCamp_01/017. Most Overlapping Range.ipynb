{
 "cells": [
  {
   "cell_type": "code",
   "execution_count": null,
   "id": "73832c52",
   "metadata": {},
   "outputs": [],
   "source": [
    "N = int(input())\n",
    "Map = [0 for _ in range(201)]\n",
    "arr=[list(map(int, input().split())) for _ in range(N)]\n",
    "\n",
    "min_arr=[arr[i][0] for i in range(N)]\n",
    "min_num = min(min_arr)\n",
    "if min_num<0:\n",
    "    min_num = -min_num\n",
    "    for i in range(N):\n",
    "        arr[i][0]+=min_num+1\n",
    "        arr[i][1]+=min_num+1\n",
    "\n",
    "for j in range(N):\n",
    "    new_arr = [1 for i in range(arr[j][1]-arr[j][0])]\n",
    "    new_arr = [Map[arr[j][0]+i]+new_arr[i] for i in range(len(new_arr))]\n",
    "\n",
    "    Map[arr[j][0]:arr[j][1]]=new_arr\n",
    "\n",
    "print(max(Map))\n",
    "\n",
    "\n"
   ]
  }
 ],
 "metadata": {
  "kernelspec": {
   "display_name": "Python 3",
   "language": "python",
   "name": "python3"
  },
  "language_info": {
   "codemirror_mode": {
    "name": "ipython",
    "version": 3
   },
   "file_extension": ".py",
   "mimetype": "text/x-python",
   "name": "python",
   "nbconvert_exporter": "python",
   "pygments_lexer": "ipython3",
   "version": "3.8.11"
  }
 },
 "nbformat": 4,
 "nbformat_minor": 5
}
