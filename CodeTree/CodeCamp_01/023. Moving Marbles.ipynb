{
 "cells": [
  {
   "cell_type": "code",
   "execution_count": null,
   "id": "10947185",
   "metadata": {},
   "outputs": [],
   "source": [
    "n, t= map(int, input().split())\n",
    "i_x, i_y, i_dir = input().split()\n",
    "i_x, i_y = int(i_x)-1, int(i_y)-1\n",
    "\n",
    "dxs = [-1, 0, 0, 1]\n",
    "dys = [0, 1, -1, 0]\n",
    "direction = {\"U\":0, \"D\": 3, \"R\":1, \"L\":2}\n",
    "\n",
    "def in_range(x,y):\n",
    "    return 0<= x and x<n and 0<=y and y<n\n",
    "\n",
    "direc = direction[i_dir]\n",
    "\n",
    "while True:\n",
    "    nx, ny = i_x + dxs[direc], i_y + dys[direc]\n",
    "    if not in_range(nx, ny):\n",
    "        direc = 3-direc\n",
    "        t -= 1\n",
    "    if t == 0:\n",
    "        break\n",
    "    i_x, i_y = i_x + dxs[direc], i_y + dys[direc]\n",
    "    t-=1\n",
    "    \n",
    "print(i_x+1, i_y+1)"
   ]
  }
 ],
 "metadata": {
  "kernelspec": {
   "display_name": "Python 3",
   "language": "python",
   "name": "python3"
  },
  "language_info": {
   "codemirror_mode": {
    "name": "ipython",
    "version": 3
   },
   "file_extension": ".py",
   "mimetype": "text/x-python",
   "name": "python",
   "nbconvert_exporter": "python",
   "pygments_lexer": "ipython3",
   "version": "3.8.11"
  }
 },
 "nbformat": 4,
 "nbformat_minor": 5
}
