{
 "cells": [
  {
   "cell_type": "code",
   "execution_count": null,
   "id": "81304987",
   "metadata": {},
   "outputs": [],
   "source": [
    "by, bm, ay, am = map(int, input().split())\n",
    "\n",
    "\n",
    "\n",
    "def sum(y, m):\n",
    "    Sum=0\n",
    "    num_of_days = [0, 31, 28, 31, 30, 31, 30, 31, 31, 30, 31, 30, 31]\n",
    "    for i in range(1, y):\n",
    "        Sum += num_of_days[i]\n",
    "    \n",
    "    Sum += m\n",
    "    return Sum\n",
    "\n",
    "bSum = sum(by, bm)\n",
    "aSum = sum(ay, am)\n",
    "\n",
    "print(aSum-bSum+1)"
   ]
  }
 ],
 "metadata": {
  "kernelspec": {
   "display_name": "Python 3",
   "language": "python",
   "name": "python3"
  },
  "language_info": {
   "codemirror_mode": {
    "name": "ipython",
    "version": 3
   },
   "file_extension": ".py",
   "mimetype": "text/x-python",
   "name": "python",
   "nbconvert_exporter": "python",
   "pygments_lexer": "ipython3",
   "version": "3.8.11"
  }
 },
 "nbformat": 4,
 "nbformat_minor": 5
}
