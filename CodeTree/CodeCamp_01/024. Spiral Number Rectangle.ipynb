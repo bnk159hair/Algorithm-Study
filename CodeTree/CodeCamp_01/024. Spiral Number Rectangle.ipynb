{
 "cells": [
  {
   "cell_type": "code",
   "execution_count": null,
   "id": "3971cb7c",
   "metadata": {},
   "outputs": [],
   "source": [
    "n, m = map(int, input().split())\n",
    "\n",
    "dxs = [0, 1, 0, -1]\n",
    "dys = [1, 0, -1, 0]\n",
    "Map = [\n",
    "    [0 for _ in range(m)] for _ in range(n)\n",
    "]\n",
    "\n",
    "dx, dy, nx, ny = 0, 0, 0, 0\n",
    "num = 1\n",
    "direction = 0\n",
    "\n",
    "def in_range(x,y):\n",
    "    return 0<= x and x<n and 0<=y and y<m\n",
    "\n",
    "while True:\n",
    "    Map[dx][dy] = num\n",
    "    num += 1\n",
    "    if num > n*m:\n",
    "        break\n",
    "    nx, ny = dx+ dxs[direction], dy+dys[direction]\n",
    "    if not in_range(nx,ny) or Map[nx][ny]!=0:\n",
    "        direction = (direction + 1) % 4\n",
    "    dx, dy = dx + dxs[direction], dy + dys[direction]\n",
    "    \n",
    "for i in Map:\n",
    "    for j in i :\n",
    "        print(j, end=\" \")\n",
    "    print()\n"
   ]
  }
 ],
 "metadata": {
  "kernelspec": {
   "display_name": "Python 3",
   "language": "python",
   "name": "python3"
  },
  "language_info": {
   "codemirror_mode": {
    "name": "ipython",
    "version": 3
   },
   "file_extension": ".py",
   "mimetype": "text/x-python",
   "name": "python",
   "nbconvert_exporter": "python",
   "pygments_lexer": "ipython3",
   "version": "3.8.11"
  }
 },
 "nbformat": 4,
 "nbformat_minor": 5
}
