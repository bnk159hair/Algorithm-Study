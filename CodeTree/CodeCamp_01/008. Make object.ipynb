{
 "cells": [
  {
   "cell_type": "code",
   "execution_count": null,
   "id": "884faded",
   "metadata": {},
   "outputs": [],
   "source": [
    "class test:\n",
    "    def __init__(self, ID='codetree', level=10):\n",
    "        self.ID=ID\n",
    "        self.level=level\n",
    "\n",
    "aid, lev = input().split()\n",
    "\n",
    "a1 = test()\n",
    "a2= test(aid, int(lev))\n",
    "\n",
    "print(\"user\",a1.ID, \"lv\", a1.level)\n",
    "print(\"user\",a2.ID, \"lv\", a2.level)"
   ]
  }
 ],
 "metadata": {
  "kernelspec": {
   "display_name": "Python 3",
   "language": "python",
   "name": "python3"
  },
  "language_info": {
   "codemirror_mode": {
    "name": "ipython",
    "version": 3
   },
   "file_extension": ".py",
   "mimetype": "text/x-python",
   "name": "python",
   "nbconvert_exporter": "python",
   "pygments_lexer": "ipython3",
   "version": "3.8.11"
  }
 },
 "nbformat": 4,
 "nbformat_minor": 5
}
