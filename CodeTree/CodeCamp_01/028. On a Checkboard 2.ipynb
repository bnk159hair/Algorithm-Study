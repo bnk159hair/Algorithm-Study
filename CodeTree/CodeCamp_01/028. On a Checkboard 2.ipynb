{
 "cells": [
  {
   "cell_type": "code",
   "execution_count": null,
   "id": "cad5d830",
   "metadata": {},
   "outputs": [],
   "source": [
    "R, C = map(int,input().split())\n",
    "Map = [ input().split() for _ in range(R) ]\n",
    "\n",
    "\n",
    "count = 0\n",
    "\n",
    "for i in range(1, R-1):\n",
    "    for j in range(1, C-1):\n",
    "        for k in range(i+1, R-1):\n",
    "            for l in range(j+1, C-1):\n",
    "                if Map[i][j] != Map[0][0] and \\\n",
    "                Map[k][l] != Map[i][j] and \\\n",
    "                Map[R-1][C-1] != Map[k][l]:\n",
    "                    count += 1\n",
    "\n",
    "print(count)"
   ]
  }
 ],
 "metadata": {
  "kernelspec": {
   "display_name": "Python 3",
   "language": "python",
   "name": "python3"
  },
  "language_info": {
   "codemirror_mode": {
    "name": "ipython",
    "version": 3
   },
   "file_extension": ".py",
   "mimetype": "text/x-python",
   "name": "python",
   "nbconvert_exporter": "python",
   "pygments_lexer": "ipython3",
   "version": "3.8.11"
  }
 },
 "nbformat": 4,
 "nbformat_minor": 5
}
