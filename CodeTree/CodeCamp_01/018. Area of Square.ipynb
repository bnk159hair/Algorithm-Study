{
 "cells": [
  {
   "cell_type": "code",
   "execution_count": null,
   "id": "8ddd7f90",
   "metadata": {},
   "outputs": [],
   "source": [
    "N = int(input())\n",
    "\n",
    "Map = [[0 for _ in range(201) ] for _ in range(201)]\n",
    "\n",
    "in_arr = []\n",
    "for i in range(N):\n",
    "    X_1, Y_1, X_2, Y_2 = map(int, input().split())\n",
    "    in_arr.append([X_1+100, Y_1+100, X_2+100, Y_2+100])\n",
    "\n",
    "\n",
    "for i in range(N):\n",
    "    for j in range(in_arr[i][0], in_arr[i][2]):\n",
    "        for k in range(in_arr[i][1], in_arr[i][3]):\n",
    "            Map[j][k] = 1\n",
    "cnt = 0\n",
    "for j in range(201):\n",
    "        for k in range(201):\n",
    "            if Map[j][k] == 1:\n",
    "                cnt += 1\n",
    "\n",
    "\n",
    "print(cnt)\n",
    "     "
   ]
  }
 ],
 "metadata": {
  "kernelspec": {
   "display_name": "Python 3",
   "language": "python",
   "name": "python3"
  },
  "language_info": {
   "codemirror_mode": {
    "name": "ipython",
    "version": 3
   },
   "file_extension": ".py",
   "mimetype": "text/x-python",
   "name": "python",
   "nbconvert_exporter": "python",
   "pygments_lexer": "ipython3",
   "version": "3.8.11"
  }
 },
 "nbformat": 4,
 "nbformat_minor": 5
}
