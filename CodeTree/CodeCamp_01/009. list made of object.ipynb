{
 "cells": [
  {
   "cell_type": "code",
   "execution_count": null,
   "id": "87c14083",
   "metadata": {},
   "outputs": [],
   "source": [
    "class Codename:\n",
    "    def __init__(self, name=\"\\0\", score=0):\n",
    "        self.name = name\n",
    "        self.score = score\n",
    "    \n",
    "Member = []\n",
    "\n",
    "for _ in range(5):\n",
    "    a, b = tuple(input().split())\n",
    "    Member.append(Codename(a,int(b)))\n",
    "\n",
    "Member.sort(key=lambda x: (x.score))\n",
    "\n",
    "\n",
    "print(Member[0].name, Member[0].score)"
   ]
  }
 ],
 "metadata": {
  "kernelspec": {
   "display_name": "Python 3",
   "language": "python",
   "name": "python3"
  },
  "language_info": {
   "codemirror_mode": {
    "name": "ipython",
    "version": 3
   },
   "file_extension": ".py",
   "mimetype": "text/x-python",
   "name": "python",
   "nbconvert_exporter": "python",
   "pygments_lexer": "ipython3",
   "version": "3.8.11"
  }
 },
 "nbformat": 4,
 "nbformat_minor": 5
}
