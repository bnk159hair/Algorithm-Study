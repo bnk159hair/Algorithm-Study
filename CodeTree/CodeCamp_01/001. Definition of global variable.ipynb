{
 "cells": [
  {
   "cell_type": "code",
   "execution_count": null,
   "id": "3aab4dfe",
   "metadata": {},
   "outputs": [],
   "source": [
    "string_1 = input()\n",
    "string_2 = input()\n",
    "\n",
    "def findstring():\n",
    "    for i in range(len(string_1)-len(string_2)+1):\n",
    "        if string_1[i:i+len(string_2)] == string_2:\n",
    "            return i\n",
    "    return -1\n",
    "\n",
    "print(findstring())"
   ]
  }
 ],
 "metadata": {
  "kernelspec": {
   "display_name": "Python 3",
   "language": "python",
   "name": "python3"
  },
  "language_info": {
   "codemirror_mode": {
    "name": "ipython",
    "version": 3
   },
   "file_extension": ".py",
   "mimetype": "text/x-python",
   "name": "python",
   "nbconvert_exporter": "python",
   "pygments_lexer": "ipython3",
   "version": "3.8.11"
  }
 },
 "nbformat": 4,
 "nbformat_minor": 5
}
