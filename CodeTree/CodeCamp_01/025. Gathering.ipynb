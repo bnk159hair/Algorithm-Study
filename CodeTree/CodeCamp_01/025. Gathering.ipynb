{
 "cells": [
  {
   "cell_type": "code",
   "execution_count": null,
   "id": "4400e28b",
   "metadata": {},
   "outputs": [],
   "source": [
    "import sys\n",
    "n = int(input())\n",
    "home = list(map(int, input().split()))\n",
    "\n",
    "min_val = sys.maxsize\n",
    "sum=0\n",
    "for i in range(n):\n",
    "    sum=0\n",
    "    for j in range(n):\n",
    "        if i != j:\n",
    "            sum += abs(i-j)*home[j]\n",
    "    if sum < min_val:\n",
    "        min_val = sum\n",
    "\n",
    "print(min_val)"
   ]
  }
 ],
 "metadata": {
  "kernelspec": {
   "display_name": "Python 3",
   "language": "python",
   "name": "python3"
  },
  "language_info": {
   "codemirror_mode": {
    "name": "ipython",
    "version": 3
   },
   "file_extension": ".py",
   "mimetype": "text/x-python",
   "name": "python",
   "nbconvert_exporter": "python",
   "pygments_lexer": "ipython3",
   "version": "3.8.11"
  }
 },
 "nbformat": 4,
 "nbformat_minor": 5
}
