{
 "cells": [
  {
   "cell_type": "code",
   "execution_count": null,
   "id": "8632b115",
   "metadata": {},
   "outputs": [],
   "source": [
    "n = int(input())\n",
    "arr = list(map(int, input().split()))\n",
    "\n",
    "Sum =0\n",
    "\n",
    "for i in range(n-2):\n",
    "    for j in range(i+2, n):\n",
    "        temp = arr[i] + arr[j]\n",
    "        if temp> Sum:\n",
    "            Sum = temp\n",
    "print(Sum)"
   ]
  }
 ],
 "metadata": {
  "kernelspec": {
   "display_name": "Python 3",
   "language": "python",
   "name": "python3"
  },
  "language_info": {
   "codemirror_mode": {
    "name": "ipython",
    "version": 3
   },
   "file_extension": ".py",
   "mimetype": "text/x-python",
   "name": "python",
   "nbconvert_exporter": "python",
   "pygments_lexer": "ipython3",
   "version": "3.8.11"
  }
 },
 "nbformat": 4,
 "nbformat_minor": 5
}
