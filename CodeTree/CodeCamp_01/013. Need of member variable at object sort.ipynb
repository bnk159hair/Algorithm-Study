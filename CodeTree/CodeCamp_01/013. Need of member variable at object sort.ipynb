{
 "cells": [
  {
   "cell_type": "code",
   "execution_count": null,
   "id": "1e899cbe",
   "metadata": {},
   "outputs": [],
   "source": [
    "class student:\n",
    "    def __init__(self, height, weight, number):\n",
    "        self.height, self.weight, self.number = height, weight, number\n",
    "\n",
    "n = int(input())\n",
    "\n",
    "given_inputs = [\n",
    "    tuple(map(int, input().split()))\n",
    "    for _ in range(n)\n",
    "]\n",
    "\n",
    "students = [\n",
    "    student(height, weight, i)\n",
    "    for i,(height, weight) in enumerate(given_inputs, start=1)\n",
    "]\n",
    "\n",
    "students.sort(key = lambda x: (-x.height, -x.weight, x.number))\n",
    "\n",
    "for i in students:\n",
    "    print(i.height, i.weight, i.number)"
   ]
  }
 ],
 "metadata": {
  "kernelspec": {
   "display_name": "Python 3",
   "language": "python",
   "name": "python3"
  },
  "language_info": {
   "codemirror_mode": {
    "name": "ipython",
    "version": 3
   },
   "file_extension": ".py",
   "mimetype": "text/x-python",
   "name": "python",
   "nbconvert_exporter": "python",
   "pygments_lexer": "ipython3",
   "version": "3.8.11"
  }
 },
 "nbformat": 4,
 "nbformat_minor": 5
}
