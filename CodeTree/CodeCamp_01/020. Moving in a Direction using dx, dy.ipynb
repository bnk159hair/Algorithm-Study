{
 "cells": [
  {
   "cell_type": "code",
   "execution_count": null,
   "id": "f2c47312",
   "metadata": {},
   "outputs": [],
   "source": [
    "N = int(input())\n",
    "X, Y =0,0\n",
    "direc_x = {'W':-1, 'S':0,'N': 0,'E': 1}\n",
    "direc_y = {'W': 0, 'S':-1,'N': 1,'E': 0}\n",
    "\n",
    "for _ in range(N):\n",
    "    di, num = input().split()\n",
    "    num = int(num)\n",
    "    X, Y= X+direc_x[di]*num, Y+direc_y[di]*num\n",
    "\n",
    "print(X, Y)"
   ]
  }
 ],
 "metadata": {
  "kernelspec": {
   "display_name": "Python 3",
   "language": "python",
   "name": "python3"
  },
  "language_info": {
   "codemirror_mode": {
    "name": "ipython",
    "version": 3
   },
   "file_extension": ".py",
   "mimetype": "text/x-python",
   "name": "python",
   "nbconvert_exporter": "python",
   "pygments_lexer": "ipython3",
   "version": "3.8.11"
  }
 },
 "nbformat": 4,
 "nbformat_minor": 5
}
