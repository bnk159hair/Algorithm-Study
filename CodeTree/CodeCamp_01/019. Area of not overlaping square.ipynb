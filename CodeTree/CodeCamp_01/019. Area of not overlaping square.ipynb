{
 "cells": [
  {
   "cell_type": "code",
   "execution_count": null,
   "id": "26be3597",
   "metadata": {},
   "outputs": [],
   "source": [
    "\n",
    "Map = [[0 for _ in range(2001) ] for _ in range(2001)]\n",
    "\n",
    "for i in range(2):\n",
    "    X_1, Y_1, X_2, Y_2 = map(int, input().split())\n",
    "    for x in range(X_1+100, X_2+100):\n",
    "        for y in range(Y_1+100, Y_2+100):\n",
    "            Map[x][y]=1\n",
    "\n",
    "\n",
    "X_1, Y_1, X_2, Y_2 = map(int, input().split())\n",
    "for x in range(X_1+100, X_2+100):\n",
    "    for y in range(Y_1+100, Y_2+100):\n",
    "        Map[x][y]=0\n",
    "\n",
    "cnt = 0\n",
    "for j in range(2001):\n",
    "        for k in range(2001):\n",
    "            if Map[j][k] == 1:\n",
    "                cnt += 1\n",
    "\n",
    "\n",
    "print(cnt)\n",
    "     "
   ]
  }
 ],
 "metadata": {
  "kernelspec": {
   "display_name": "Python 3",
   "language": "python",
   "name": "python3"
  },
  "language_info": {
   "codemirror_mode": {
    "name": "ipython",
    "version": 3
   },
   "file_extension": ".py",
   "mimetype": "text/x-python",
   "name": "python",
   "nbconvert_exporter": "python",
   "pygments_lexer": "ipython3",
   "version": "3.8.11"
  }
 },
 "nbformat": 4,
 "nbformat_minor": 5
}
