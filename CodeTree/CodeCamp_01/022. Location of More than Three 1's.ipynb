{
 "cells": [
  {
   "cell_type": "code",
   "execution_count": null,
   "id": "3c5a4780",
   "metadata": {},
   "outputs": [],
   "source": [
    "n = int(input())\n",
    "arr = [\n",
    "    list(map(int,input().split())) for _ in range(n)\n",
    "]\n",
    "\n",
    "dxs = [0, 1, 0, -1]\n",
    "dys = [1, 0, -1, 0]\n",
    "\n",
    "def in_range(x,y):\n",
    "    return 0<= x and x<n and 0<=y and y<n\n",
    "\n",
    "sum=0\n",
    "for x in range(n):\n",
    "    for y in range(n):\n",
    "        cnt=0\n",
    "        for dx, dy in zip(dxs, dys):\n",
    "            nx, ny = x+ dx, y+dy\n",
    "            if in_range(nx, ny) and arr[nx][ny]==1:\n",
    "                cnt += 1\n",
    "        if cnt>=3:\n",
    "            sum +=1\n",
    "\n",
    "print(sum)"
   ]
  }
 ],
 "metadata": {
  "kernelspec": {
   "display_name": "Python 3",
   "language": "python",
   "name": "python3"
  },
  "language_info": {
   "codemirror_mode": {
    "name": "ipython",
    "version": 3
   },
   "file_extension": ".py",
   "mimetype": "text/x-python",
   "name": "python",
   "nbconvert_exporter": "python",
   "pygments_lexer": "ipython3",
   "version": "3.8.11"
  }
 },
 "nbformat": 4,
 "nbformat_minor": 5
}
