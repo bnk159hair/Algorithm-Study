{
 "cells": [
  {
   "cell_type": "code",
   "execution_count": null,
   "id": "71cdccca",
   "metadata": {},
   "outputs": [],
   "source": [
    "# 변수 선언 및 입력\n",
    "n, m = tuple(map(int, input().split()))\n",
    "arr1 = list(map(int, input().split()))\n",
    "arr2 = list(map(int, input().split()))\n",
    "\n",
    "# 모든 구간의 시작점을 잡아봅니다.\n",
    "cnt = 0\n",
    "for i in range(0, n - m + 1):\n",
    "\tif sorted(arr1[i:i+m]) == sorted(arr2):\n",
    "\t\tcnt += 1\n",
    "print(cnt)\n"
   ]
  }
 ],
 "metadata": {
  "kernelspec": {
   "display_name": "Python 3",
   "language": "python",
   "name": "python3"
  },
  "language_info": {
   "codemirror_mode": {
    "name": "ipython",
    "version": 3
   },
   "file_extension": ".py",
   "mimetype": "text/x-python",
   "name": "python",
   "nbconvert_exporter": "python",
   "pygments_lexer": "ipython3",
   "version": "3.8.11"
  }
 },
 "nbformat": 4,
 "nbformat_minor": 5
}
