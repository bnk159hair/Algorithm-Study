{
 "cells": [
  {
   "cell_type": "code",
   "execution_count": null,
   "id": "5ef57bde",
   "metadata": {},
   "outputs": [],
   "source": [
    "n, k = list(map(int, input().split()))\n",
    "arr = list(map(int, input().split()))\n",
    "\n",
    "min_num = 0\n",
    "\n",
    "for i in range(0, n-k+1):\n",
    "    sum =0 \n",
    "    for j in range(k):\n",
    "        sum += arr[i+j]\n",
    "    min_num = max(min_num, sum)\n",
    "\n",
    "print(min_num)"
   ]
  }
 ],
 "metadata": {
  "kernelspec": {
   "display_name": "Python 3",
   "language": "python",
   "name": "python3"
  },
  "language_info": {
   "codemirror_mode": {
    "name": "ipython",
    "version": 3
   },
   "file_extension": ".py",
   "mimetype": "text/x-python",
   "name": "python",
   "nbconvert_exporter": "python",
   "pygments_lexer": "ipython3",
   "version": "3.8.11"
  }
 },
 "nbformat": 4,
 "nbformat_minor": 5
}
