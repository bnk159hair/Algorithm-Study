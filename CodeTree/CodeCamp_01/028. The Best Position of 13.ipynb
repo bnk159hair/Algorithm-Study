{
 "cells": [
  {
   "cell_type": "code",
   "execution_count": null,
   "id": "91a1ea3a",
   "metadata": {},
   "outputs": [],
   "source": [
    "n = int(input())\n",
    "arr = [list(map(int, input().split())) \n",
    "for _ in range(n)]\n",
    "\n",
    "max_num = 0\n",
    "for i in range(n):\n",
    "    for j in range(n-2):\n",
    "        coin = arr[i][j]+arr[i][j+1]+arr[i][j+2]\n",
    "        max_num = max(max_num, coin)\n",
    "\n",
    "print(max_num)\n",
    "\n"
   ]
  }
 ],
 "metadata": {
  "kernelspec": {
   "display_name": "Python 3",
   "language": "python",
   "name": "python3"
  },
  "language_info": {
   "codemirror_mode": {
    "name": "ipython",
    "version": 3
   },
   "file_extension": ".py",
   "mimetype": "text/x-python",
   "name": "python",
   "nbconvert_exporter": "python",
   "pygments_lexer": "ipython3",
   "version": "3.8.11"
  }
 },
 "nbformat": 4,
 "nbformat_minor": 5
}
