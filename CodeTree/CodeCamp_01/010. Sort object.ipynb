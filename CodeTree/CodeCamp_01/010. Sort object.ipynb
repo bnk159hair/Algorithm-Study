{
 "cells": [
  {
   "cell_type": "code",
   "execution_count": null,
   "id": "a8421b49",
   "metadata": {},
   "outputs": [],
   "source": [
    "num = int(input())\n",
    "\n",
    "class People:\n",
    "    def __init__(self, name, height, weight):\n",
    "        self.name = name\n",
    "        self.height = height\n",
    "        self.weight = weight\n",
    "people = []\n",
    "\n",
    "for _ in range(num):\n",
    "    n, h, w = tuple(input().split())\n",
    "    people.append(People(n,int(h),int(w)))\n",
    "\n",
    "people.sort(key=lambda x:x.height)\n",
    "\n",
    "for i in range(num):\n",
    "    print(people[i].name, people[i].height, people[i].weight)"
   ]
  }
 ],
 "metadata": {
  "kernelspec": {
   "display_name": "Python 3",
   "language": "python",
   "name": "python3"
  },
  "language_info": {
   "codemirror_mode": {
    "name": "ipython",
    "version": 3
   },
   "file_extension": ".py",
   "mimetype": "text/x-python",
   "name": "python",
   "nbconvert_exporter": "python",
   "pygments_lexer": "ipython3",
   "version": "3.8.11"
  }
 },
 "nbformat": 4,
 "nbformat_minor": 5
}
