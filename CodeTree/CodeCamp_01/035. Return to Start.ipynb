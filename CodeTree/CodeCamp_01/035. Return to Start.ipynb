{
 "cells": [
  {
   "cell_type": "code",
   "execution_count": null,
   "id": "9c374fb8",
   "metadata": {},
   "outputs": [],
   "source": [
    "n = int(input())\n",
    "direc = [0 for _ in range(n)]\n",
    "number = [0 for _ in range(n)]\n",
    "\n",
    "for i in range(n):\n",
    "    direc[i], number[i] = input().split()\n",
    "    number[i] = int(number[i])\n",
    "time = 0\n",
    "x, y =0, 0\n",
    "inform_x = [0, 1, 0, -1]\n",
    "inform_y = [-1, 0, 1, 0]\n",
    "inform = {\"N\":0, \"E\":1, \"S\":2, \"W\":3}\n",
    "for i in range(n):\n",
    "    for j in range(number[i]):\n",
    "        x, y = x + inform_x[inform[direc[i]]], y + inform_y[inform[direc[i]]]\n",
    "        if x ==0 and y ==0:\n",
    "            time += 1\n",
    "            print(time)\n",
    "            break\n",
    "        time += 1\n",
    "    if x ==0 and y ==0:\n",
    "        break\n",
    "\n",
    "if x !=0 or y !=0:\n",
    "    print(-1)\n",
    "\n"
   ]
  }
 ],
 "metadata": {
  "kernelspec": {
   "display_name": "Python 3",
   "language": "python",
   "name": "python3"
  },
  "language_info": {
   "codemirror_mode": {
    "name": "ipython",
    "version": 3
   },
   "file_extension": ".py",
   "mimetype": "text/x-python",
   "name": "python",
   "nbconvert_exporter": "python",
   "pygments_lexer": "ipython3",
   "version": "3.8.11"
  }
 },
 "nbformat": 4,
 "nbformat_minor": 5
}
