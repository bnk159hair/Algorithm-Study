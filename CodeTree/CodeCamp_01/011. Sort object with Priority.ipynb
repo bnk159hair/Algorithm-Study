{
 "cells": [
  {
   "cell_type": "code",
   "execution_count": null,
   "id": "e138d2c6",
   "metadata": {},
   "outputs": [],
   "source": [
    "num = int(input())\n",
    "\n",
    "class Study:\n",
    "    def __init__(self, n, k, e, s):\n",
    "        self.N = n\n",
    "        self.K = k\n",
    "        self.E = e\n",
    "        self.S = s\n",
    "\n",
    "study = []\n",
    "\n",
    "for _ in range(num):\n",
    "    N, K, E, S = tuple(input().split())\n",
    "    study.append(Study(N, int(K),int(E),int(S)))\n",
    "\n",
    "study.sort(key=lambda x: (-x.K,-x.E,-x.S))\n",
    "\n",
    "for student in study:\n",
    "    print(student.N, student.K ,student.E, student.S) "
   ]
  }
 ],
 "metadata": {
  "kernelspec": {
   "display_name": "Python 3",
   "language": "python",
   "name": "python3"
  },
  "language_info": {
   "codemirror_mode": {
    "name": "ipython",
    "version": 3
   },
   "file_extension": ".py",
   "mimetype": "text/x-python",
   "name": "python",
   "nbconvert_exporter": "python",
   "pygments_lexer": "ipython3",
   "version": "3.8.11"
  }
 },
 "nbformat": 4,
 "nbformat_minor": 5
}
