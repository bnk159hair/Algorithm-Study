{
 "cells": [
  {
   "cell_type": "code",
   "execution_count": null,
   "id": "31f53601",
   "metadata": {},
   "outputs": [],
   "source": [
    "class OO7:\n",
    "    def __init__(self,code, when, time):\n",
    "        self.code=code\n",
    "        self.when=when\n",
    "        self.time=time\n",
    "\n",
    "stri, ar, num = input().split()\n",
    "num = int(num)\n",
    "\n",
    "spy = OO7(stri,ar,num)\n",
    "\n",
    "print(\"secret code :\", spy.code)\n",
    "print(\"meeting point :\", spy.when)\n",
    "print(\"time :\", spy.time)\n"
   ]
  }
 ],
 "metadata": {
  "kernelspec": {
   "display_name": "Python 3",
   "language": "python",
   "name": "python3"
  },
  "language_info": {
   "codemirror_mode": {
    "name": "ipython",
    "version": 3
   },
   "file_extension": ".py",
   "mimetype": "text/x-python",
   "name": "python",
   "nbconvert_exporter": "python",
   "pygments_lexer": "ipython3",
   "version": "3.8.11"
  }
 },
 "nbformat": 4,
 "nbformat_minor": 5
}
