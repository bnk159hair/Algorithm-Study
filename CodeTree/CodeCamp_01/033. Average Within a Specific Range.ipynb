{
 "cells": [
  {
   "cell_type": "code",
   "execution_count": null,
   "id": "b291a4a9",
   "metadata": {},
   "outputs": [],
   "source": [
    "n = int(input())\n",
    "arr = list(map(int, input().split()))\n",
    "result = 0\n",
    "\n",
    "for i in range(1, n+1):\n",
    "    for j in range(0, n - i + 1):\n",
    "        YorN = False\n",
    "        Sum = 0\n",
    "        for k in range(i):\n",
    "            Sum += arr[j+k]\n",
    "        Sum = Sum / i\n",
    "        for l in range(j, j+i):\n",
    "            if arr[l] == Sum:\n",
    "                YorN = True\n",
    "        if YorN == True:\n",
    "            result += 1\n",
    "\n",
    "print(result)"
   ]
  }
 ],
 "metadata": {
  "kernelspec": {
   "display_name": "Python 3",
   "language": "python",
   "name": "python3"
  },
  "language_info": {
   "codemirror_mode": {
    "name": "ipython",
    "version": 3
   },
   "file_extension": ".py",
   "mimetype": "text/x-python",
   "name": "python",
   "nbconvert_exporter": "python",
   "pygments_lexer": "ipython3",
   "version": "3.8.11"
  }
 },
 "nbformat": 4,
 "nbformat_minor": 5
}
