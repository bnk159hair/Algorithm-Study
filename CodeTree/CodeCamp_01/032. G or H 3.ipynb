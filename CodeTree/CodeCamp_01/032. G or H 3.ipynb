{
 "cells": [
  {
   "cell_type": "code",
   "execution_count": null,
   "id": "9a9827a0",
   "metadata": {},
   "outputs": [],
   "source": [
    "N, K = map(int, input().split())\n",
    "K += 1\n",
    "Sum = [0 for _ in range(10001)]\n",
    "\n",
    "result = 0\n",
    "for _ in range(N):\n",
    "    num, code = input().split()\n",
    "    num = int(num)\n",
    "\n",
    "    if code == \"G\":\n",
    "        Sum[num] = 1\n",
    "    elif code == \"H\":\n",
    "        Sum[num] = 2\n",
    "\n",
    "for i in range(1, 10000 - K + 1):\n",
    "    temp = 0\n",
    "    for j in range(i, i + K):\n",
    "        temp += Sum[j]\n",
    "\n",
    "    result = max(result, temp)\n",
    "\n",
    "print(result)\n"
   ]
  }
 ],
 "metadata": {
  "kernelspec": {
   "display_name": "Python 3",
   "language": "python",
   "name": "python3"
  },
  "language_info": {
   "codemirror_mode": {
    "name": "ipython",
    "version": 3
   },
   "file_extension": ".py",
   "mimetype": "text/x-python",
   "name": "python",
   "nbconvert_exporter": "python",
   "pygments_lexer": "ipython3",
   "version": "3.8.11"
  }
 },
 "nbformat": 4,
 "nbformat_minor": 5
}
