{
 "cells": [
  {
   "cell_type": "code",
   "execution_count": null,
   "id": "81fba6ec",
   "metadata": {},
   "outputs": [],
   "source": [
    "N, K = map(int, input().split())\n",
    "\n",
    "Sum = [0 for _ in range(N+1)]\n",
    "\n",
    "for _ in range(K):\n",
    "    A_i, B_i = map(int, input().split())\n",
    "    new_arr = [1 for _ in range(B_i-A_i+1)]\n",
    "    new_arr = [Sum[A_i+i]+new_arr[i] for i in range(len(new_arr))]\n",
    "\n",
    "    Sum[A_i:B_i+1]=new_arr\n",
    "print(max(Sum))\n"
   ]
  }
 ],
 "metadata": {
  "kernelspec": {
   "display_name": "Python 3",
   "language": "python",
   "name": "python3"
  },
  "language_info": {
   "codemirror_mode": {
    "name": "ipython",
    "version": 3
   },
   "file_extension": ".py",
   "mimetype": "text/x-python",
   "name": "python",
   "nbconvert_exporter": "python",
   "pygments_lexer": "ipython3",
   "version": "3.8.11"
  }
 },
 "nbformat": 4,
 "nbformat_minor": 5
}
