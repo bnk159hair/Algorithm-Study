{
 "cells": [
  {
   "cell_type": "code",
   "execution_count": null,
   "id": "195b9156",
   "metadata": {},
   "outputs": [],
   "source": [
    "yt, ym, tt, tm = map(int, input().split())\n",
    "\n",
    "yester = 60*yt+ym\n",
    "today = 60*tt + tm\n",
    "\n",
    "result = today - yester\n",
    "\n",
    "print(result)s"
   ]
  }
 ],
 "metadata": {
  "kernelspec": {
   "display_name": "Python 3",
   "language": "python",
   "name": "python3"
  },
  "language_info": {
   "codemirror_mode": {
    "name": "ipython",
    "version": 3
   },
   "file_extension": ".py",
   "mimetype": "text/x-python",
   "name": "python",
   "nbconvert_exporter": "python",
   "pygments_lexer": "ipython3",
   "version": "3.8.11"
  }
 },
 "nbformat": 4,
 "nbformat_minor": 5
}
