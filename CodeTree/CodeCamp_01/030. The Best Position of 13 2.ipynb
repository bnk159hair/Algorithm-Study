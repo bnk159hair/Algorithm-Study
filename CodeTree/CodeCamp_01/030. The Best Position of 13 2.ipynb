{
 "cells": [
  {
   "cell_type": "code",
   "execution_count": null,
   "id": "d26d6e3b",
   "metadata": {},
   "outputs": [],
   "source": [
    "N = int(input())\n",
    "arr = [list(map(int, input().split())) for _ in range(N)]\n",
    "\n",
    "Max_num = 0\n",
    "\n",
    "for i in range(N):\n",
    "    Sum_01 = 0\n",
    "    for j in range(0, N-3+1):\n",
    "        Sum_01 = arr[i][j] + arr[i][j+1] + arr[i][j+2]\n",
    "\n",
    "        if (N - j -3) >= 3:\n",
    "            Sum_02 =0\n",
    "            for l in range(j+3, N-3+1):\n",
    "                Sum_02 = arr[i][l] + arr[i][l+1] + arr[i][l+2]\n",
    "                if Sum_01+Sum_02 > Max_num:\n",
    "                    Max_num = Sum_01+Sum_02\n",
    "        if i != N-1:\n",
    "            for k in range(i+1, N):\n",
    "                Sum_02 =0\n",
    "                for l in range(0, N-3+1):\n",
    "                    Sum_02 = arr[k][l] + arr[k][l+1] + arr[k][l+2]\n",
    "                    if Sum_01+Sum_02 > Max_num:\n",
    "                        Max_num = Sum_01+Sum_02\n",
    "        \n",
    "\n",
    "print(Max_num)"
   ]
  }
 ],
 "metadata": {
  "kernelspec": {
   "display_name": "Python 3",
   "language": "python",
   "name": "python3"
  },
  "language_info": {
   "codemirror_mode": {
    "name": "ipython",
    "version": 3
   },
   "file_extension": ".py",
   "mimetype": "text/x-python",
   "name": "python",
   "nbconvert_exporter": "python",
   "pygments_lexer": "ipython3",
   "version": "3.8.11"
  }
 },
 "nbformat": 4,
 "nbformat_minor": 5
}
