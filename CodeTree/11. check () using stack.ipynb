{
 "cells": [
  {
   "cell_type": "code",
   "execution_count": null,
   "id": "db556e0d",
   "metadata": {},
   "outputs": [],
   "source": [
    "string_0 = input()\n",
    "string_0 = list(string_0)\n",
    "\n",
    "class Stack:\n",
    "    def __init__(self):\n",
    "        self.items = []\n",
    "    def push(self, item):\n",
    "        self.items.append(item)\n",
    "    def empty(self):\n",
    "        return int(not self.items) \n",
    "    def size(self):\n",
    "        return len(self.items)\n",
    "    def pop(self):\n",
    "        if self.empty():\n",
    "            return 0\n",
    "        return self.items.pop()\n",
    "    def top(self):\n",
    "        if self.empty():\n",
    "            return 0\n",
    "        return self.items[-1]\n",
    "temp = 0\n",
    "stack = Stack()\n",
    "for i in range(len(string_0)):\n",
    "    if string_0[i] == \"(\":\n",
    "        stack.push(\"(\")\n",
    "    elif string_0[i] ==\")\":\n",
    "        if stack.empty():\n",
    "            print(\"No\")\n",
    "            temp = 1\n",
    "            break\n",
    "        stack.pop()\n",
    "\n",
    "if temp == 0 :    \n",
    "    if stack.empty():\n",
    "        print(\"Yes\")\n",
    "    else:\n",
    "        print(\"No\")"
   ]
  }
 ],
 "metadata": {
  "kernelspec": {
   "display_name": "Python 3",
   "language": "python",
   "name": "python3"
  },
  "language_info": {
   "codemirror_mode": {
    "name": "ipython",
    "version": 3
   },
   "file_extension": ".py",
   "mimetype": "text/x-python",
   "name": "python",
   "nbconvert_exporter": "python",
   "pygments_lexer": "ipython3",
   "version": "3.8.11"
  }
 },
 "nbformat": 4,
 "nbformat_minor": 5
}
