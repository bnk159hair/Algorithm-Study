{
 "cells": [
  {
   "cell_type": "markdown",
   "id": "fbf5fdd7",
   "metadata": {},
   "source": [
    "## 개선 알고리즘 안썼을 때\n",
    "시간이 267 - 272ms (병합 정렬은 236ms)"
   ]
  },
  {
   "cell_type": "code",
   "execution_count": null,
   "id": "ebeb6543",
   "metadata": {},
   "outputs": [],
   "source": [
    "n = int(input())\n",
    "\n",
    "arr = list(map(int, input().split()))\n",
    "\n",
    "def swap(a, b):\n",
    "    temp = arr[a]\n",
    "    arr[a] = arr[b]\n",
    "    arr[b] = temp\n",
    "\n",
    "def partition(low, high):\n",
    "    pivot = arr[high]\n",
    "    i = low - 1\n",
    "    j = low\n",
    "\n",
    "    while j < high:\n",
    "        if arr[j] <= pivot:\n",
    "            i += 1\n",
    "            swap(i, j)\n",
    "        j += 1\n",
    "\n",
    "    swap(i+1, high)\n",
    "    return (i+1)\n",
    "\n",
    "def quick_sort(low, high):\n",
    "    if low < high:\n",
    "        pos = partition(low, high)\n",
    "        quick_sort(low, pos - 1)\n",
    "        quick_sort(pos + 1, high)\n",
    "    \n",
    "quick_sort(0, n-1)\n",
    "print(\" \".join(str(i) for i in arr))\n"
   ]
  },
  {
   "cell_type": "markdown",
   "id": "a5b07bee",
   "metadata": {},
   "source": [
    "## 개선 알고리즘 사용했을 때\n",
    "시간이 204ms 로 줄어들었다."
   ]
  },
  {
   "cell_type": "code",
   "execution_count": null,
   "id": "a508915e",
   "metadata": {},
   "outputs": [],
   "source": [
    "n = int(input())\n",
    "\n",
    "arr = list(map(int, input().split()))\n",
    "\n",
    "def select_pivot(low, high):\n",
    "    pivot = 0\n",
    "    if (high-low)<3:\n",
    "        return arr[high]\n",
    "    else:\n",
    "        mid = (low + high) // 2\n",
    "        a_1, a_2, a_3 = arr[low], arr[mid], arr[high]\n",
    "        if (a_2 <= a_1 and a_1<= a_3) or (a_3 <= a_1 and a_1<= a_2):\n",
    "            pivot = low\n",
    "        elif (a_1 <= a_2 and a_2<= a_3) or (a_3 <= a_2 and a_2<= a_1):\n",
    "            pivot = mid\n",
    "        elif (a_1 <= a_3 and a_3<= a_2) or (a_2 <= a_3 and a_3<= a_1):\n",
    "            return arr[high]\n",
    "    swap(pivot, high)\n",
    "    return arr[high]\n",
    "    \n",
    "def swap(a, b):\n",
    "    temp = arr[a]\n",
    "    arr[a] = arr[b]\n",
    "    arr[b] = temp\n",
    "\n",
    "def partition(low, high):\n",
    "    pivot = select_pivot(low, high)\n",
    "    i = low - 1\n",
    "    j = low\n",
    "\n",
    "    while j < high:\n",
    "        if arr[j] <= pivot:\n",
    "            i += 1\n",
    "            swap(i, j)\n",
    "        j += 1\n",
    "\n",
    "    swap(i+1, high)\n",
    "    return (i+1)\n",
    "\n",
    "def quick_sort(low, high):\n",
    "    if low < high:\n",
    "        pos = partition(low, high)\n",
    "        quick_sort(low, pos - 1)\n",
    "        quick_sort(pos + 1, high)\n",
    "    \n",
    "quick_sort(0, n-1)\n",
    "print(\" \".join(str(i) for i in arr))\n"
   ]
  }
 ],
 "metadata": {
  "kernelspec": {
   "display_name": "Python 3",
   "language": "python",
   "name": "python3"
  },
  "language_info": {
   "codemirror_mode": {
    "name": "ipython",
    "version": 3
   },
   "file_extension": ".py",
   "mimetype": "text/x-python",
   "name": "python",
   "nbconvert_exporter": "python",
   "pygments_lexer": "ipython3",
   "version": "3.8.11"
  }
 },
 "nbformat": 4,
 "nbformat_minor": 5
}
