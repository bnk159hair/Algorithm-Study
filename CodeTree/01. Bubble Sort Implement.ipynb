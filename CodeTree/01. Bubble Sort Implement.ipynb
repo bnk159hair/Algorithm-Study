{
 "cells": [
  {
   "cell_type": "code",
   "execution_count": 2,
   "id": "fbaeac68",
   "metadata": {},
   "outputs": [
    {
     "name": "stdout",
     "output_type": "stream",
     "text": [
      "6\n",
      "5 2 6 1 3 8\n",
      "1 2 3 5 6 8\n"
     ]
    }
   ],
   "source": [
    "n = int(input())\n",
    "\n",
    "arr = list(map(int, input().split()))\n",
    "\n",
    "len_arr = len(arr)\n",
    "\n",
    "# for i in range(len_arr-1):\n",
    "#     for j in range(len_arr-1):\n",
    "#         if arr[j]>arr[j+1]:\n",
    "#             temp=arr[j]\n",
    "#             arr[j]=arr[j+1]\n",
    "#             arr[j+1]=temp\n",
    "\n",
    "sort = True\n",
    "\n",
    "while True:\n",
    "    sort = True\n",
    "\n",
    "    for j in range(len_arr-1):\n",
    "        if arr[j]>arr[j+1]:\n",
    "            temp=arr[j]\n",
    "            arr[j]=arr[j+1]\n",
    "            arr[j+1]=temp\n",
    "            sort = False\n",
    "    \n",
    "    if sort == False:\n",
    "        continue\n",
    "    break\n",
    "\n",
    "print(\" \".join(str(i) for i in arr))"
   ]
  },
  {
   "cell_type": "code",
   "execution_count": null,
   "id": "8ad338ce",
   "metadata": {},
   "outputs": [],
   "source": []
  }
 ],
 "metadata": {
  "kernelspec": {
   "display_name": "Python 3",
   "language": "python",
   "name": "python3"
  },
  "language_info": {
   "codemirror_mode": {
    "name": "ipython",
    "version": 3
   },
   "file_extension": ".py",
   "mimetype": "text/x-python",
   "name": "python",
   "nbconvert_exporter": "python",
   "pygments_lexer": "ipython3",
   "version": "3.8.11"
  }
 },
 "nbformat": 4,
 "nbformat_minor": 5
}
