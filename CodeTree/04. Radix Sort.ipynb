{
 "cells": [
  {
   "cell_type": "code",
   "execution_count": null,
   "id": "388f25bd",
   "metadata": {},
   "outputs": [],
   "source": [
    "n = int(input())\n",
    "in_arr = list(map(int, input().split()))\n",
    "\n",
    "div = 1\n",
    "\n",
    "for i in range(6):\n",
    "    arr = [[] for _ in range(10)]\n",
    "    for j in in_arr:\n",
    "        temp = j//div\n",
    "        temp = temp % 10\n",
    "        arr[temp].append(j)\n",
    "    new_arr = []\n",
    "    div *= 10\n",
    "    for k in range(10):\n",
    "        for l in range(len(arr[k])):\n",
    "            new_arr.append(arr[k][l])\n",
    "    in_arr = new_arr\n",
    "\n",
    "print(\" \".join(str(i) for i in in_arr))"
   ]
  }
 ],
 "metadata": {
  "kernelspec": {
   "display_name": "Python 3",
   "language": "python",
   "name": "python3"
  },
  "language_info": {
   "codemirror_mode": {
    "name": "ipython",
    "version": 3
   },
   "file_extension": ".py",
   "mimetype": "text/x-python",
   "name": "python",
   "nbconvert_exporter": "python",
   "pygments_lexer": "ipython3",
   "version": "3.8.11"
  }
 },
 "nbformat": 4,
 "nbformat_minor": 5
}
