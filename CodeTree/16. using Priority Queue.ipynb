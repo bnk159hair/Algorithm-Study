{
 "cells": [
  {
   "cell_type": "code",
   "execution_count": null,
   "id": "071e2aa0",
   "metadata": {},
   "outputs": [],
   "source": [
    "import heapq\n",
    "\n",
    "class PriorityQueue:\n",
    "    def __init__(self):\n",
    "        self.items = []\n",
    "    def push(self,item):\n",
    "        heapq.heappush(self.items, -item)\n",
    "    def empty(self):\n",
    "        return int(not self.items)\n",
    "    def size(self):\n",
    "        return len(self.items)\n",
    "    def pop(self):\n",
    "        if self.empty():\n",
    "            return -1\n",
    "        return -heapq.heappop(self.items)\n",
    "    def front(self):\n",
    "        if self.empty():\n",
    "            return -1\n",
    "        return -self.items[0]\n",
    "\n",
    "n = int(input())\n",
    "pq = PriorityQueue()\n",
    "\n",
    "for _ in range(n):\n",
    "    string = input()\n",
    "    if string == \"size\":\n",
    "        print(pq.size())\n",
    "    elif string == \"empty\":\n",
    "        print(pq.empty())\n",
    "    elif string == \"pop\":\n",
    "        print(pq.pop())\n",
    "    elif string == \"top\":\n",
    "        print(pq.front())\n",
    "    else:\n",
    "        _, n = string.split()\n",
    "        n = int(n)\n",
    "        pq.push(n)"
   ]
  }
 ],
 "metadata": {
  "kernelspec": {
   "display_name": "Python 3",
   "language": "python",
   "name": "python3"
  },
  "language_info": {
   "codemirror_mode": {
    "name": "ipython",
    "version": 3
   },
   "file_extension": ".py",
   "mimetype": "text/x-python",
   "name": "python",
   "nbconvert_exporter": "python",
   "pygments_lexer": "ipython3",
   "version": "3.8.11"
  }
 },
 "nbformat": 4,
 "nbformat_minor": 5
}
