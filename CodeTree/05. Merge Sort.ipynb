{
 "cells": [
  {
   "cell_type": "code",
   "execution_count": null,
   "id": "a64e08fc",
   "metadata": {},
   "outputs": [],
   "source": [
    "n = int(input())\n",
    "arr = list(map(int, input().split()))\n",
    "\n",
    "def sort_split(low, high):\n",
    "    if low<high:\n",
    "        mid = (low + high) // 2\n",
    "        sort_split(low, mid)\n",
    "        sort_split(mid+1, high)\n",
    "        sort(low, mid, high)\n",
    "\n",
    "def sort(low, mid, high):\n",
    "    i, j = low, mid+1\n",
    "    new_arr = []\n",
    "    while i<=mid and j<=high:\n",
    "        if arr[i]<arr[j]:\n",
    "            new_arr.append(arr[i])\n",
    "            i += 1\n",
    "        else:\n",
    "            new_arr.append(arr[j])\n",
    "            j += 1\n",
    "    \n",
    "    while i<=mid:\n",
    "        new_arr.append(arr[i])\n",
    "        i += 1\n",
    "    while j<=high:\n",
    "        new_arr.append(arr[j])\n",
    "        j += 1\n",
    "    \n",
    "    cnt = low\n",
    "    for l in new_arr:\n",
    "        arr[cnt] = l\n",
    "        cnt +=1\n",
    "    \n",
    "sort_split(0,n-1)\n",
    "print(\" \".join(str(i) for i in arr))"
   ]
  }
 ],
 "metadata": {
  "kernelspec": {
   "display_name": "Python 3",
   "language": "python",
   "name": "python3"
  },
  "language_info": {
   "codemirror_mode": {
    "name": "ipython",
    "version": 3
   },
   "file_extension": ".py",
   "mimetype": "text/x-python",
   "name": "python",
   "nbconvert_exporter": "python",
   "pygments_lexer": "ipython3",
   "version": "3.8.11"
  }
 },
 "nbformat": 4,
 "nbformat_minor": 5
}
