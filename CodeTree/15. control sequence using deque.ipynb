{
 "cells": [
  {
   "cell_type": "code",
   "execution_count": null,
   "id": "28b49ed9",
   "metadata": {},
   "outputs": [],
   "source": [
    "from collections import deque \n",
    "N = int(input())\n",
    "dq = deque()\n",
    "for i in range(1, N+1):\n",
    "    dq.append(i)\n",
    "\n",
    "while len(dq) != 1:\n",
    "    dq.popleft()\n",
    "    if len(dq) == 1:\n",
    "        break\n",
    "    dq.append(dq[0])\n",
    "    dq.popleft()\n"
   ]
  }
 ],
 "metadata": {
  "kernelspec": {
   "display_name": "Python 3",
   "language": "python",
   "name": "python3"
  },
  "language_info": {
   "codemirror_mode": {
    "name": "ipython",
    "version": 3
   },
   "file_extension": ".py",
   "mimetype": "text/x-python",
   "name": "python",
   "nbconvert_exporter": "python",
   "pygments_lexer": "ipython3",
   "version": "3.8.11"
  }
 },
 "nbformat": 4,
 "nbformat_minor": 5
}
