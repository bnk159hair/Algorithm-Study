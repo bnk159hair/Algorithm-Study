{
 "cells": [
  {
   "cell_type": "code",
   "execution_count": null,
   "id": "91997565",
   "metadata": {},
   "outputs": [],
   "source": [
    "from collections import deque\n",
    "\n",
    "class Deque:\n",
    "    def __init__(self):\n",
    "        self.dq = deque()\n",
    "    def push_front(self,item):\n",
    "        self.dq.appendleft(item)\n",
    "    def push_back(self,item):\n",
    "        self.dq.append(item)\n",
    "    def empty(self):\n",
    "        return int(not self.dq)\n",
    "    def size(self):\n",
    "        return len(self.dq)\n",
    "    def pop_front(self):\n",
    "        if self.empty():\n",
    "            return -1\n",
    "        return self.dq.popleft()\n",
    "    def pop_back(self):\n",
    "        if self.empty():\n",
    "            return -1\n",
    "        return self.dq.pop()\n",
    "    def front(self):\n",
    "        if self.empty():\n",
    "            return -1\n",
    "        return self.dq[0]\n",
    "    def back(self):\n",
    "        if self.empty():\n",
    "            return -1\n",
    "        return self.dq[-1]\n",
    "\n",
    "n = int(input())\n",
    "dq = Deque()\n",
    "\n",
    "for _ in range(n):\n",
    "    string = input()\n",
    "    if string == \"size\":\n",
    "        print(dq.size())\n",
    "    elif string == \"empty\":\n",
    "        print(dq.empty())\n",
    "    elif string == \"pop_front\":\n",
    "        print(dq.pop_front())\n",
    "    elif string == \"pop_back\":\n",
    "        print(dq.pop_back())\n",
    "    elif string == \"front\":\n",
    "        print(dq.front())\n",
    "    elif string == \"back\":\n",
    "        print(dq.back())\n",
    "    else:\n",
    "        temp, n = string.split()\n",
    "        n = int(n)\n",
    "        if temp == \"push_front\":\n",
    "            dq.push_front(n)\n",
    "        else:\n",
    "            dq.push_back(n)"
   ]
  }
 ],
 "metadata": {
  "kernelspec": {
   "display_name": "Python 3",
   "language": "python",
   "name": "python3"
  },
  "language_info": {
   "codemirror_mode": {
    "name": "ipython",
    "version": 3
   },
   "file_extension": ".py",
   "mimetype": "text/x-python",
   "name": "python",
   "nbconvert_exporter": "python",
   "pygments_lexer": "ipython3",
   "version": "3.8.11"
  }
 },
 "nbformat": 4,
 "nbformat_minor": 5
}
