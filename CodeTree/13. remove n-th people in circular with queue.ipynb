{
 "cells": [
  {
   "cell_type": "code",
   "execution_count": null,
   "id": "9aab9e91",
   "metadata": {},
   "outputs": [],
   "source": [
    "from collections import deque\n",
    "\n",
    "class Queue:\n",
    "    def __init__(self):\n",
    "        self.items = deque()\n",
    "    def push(self,item):\n",
    "        self.items.append(item)\n",
    "    def empty(self):\n",
    "        return int(not self.items)\n",
    "    def size(self):\n",
    "        return len(self.items)\n",
    "    def pop(self):\n",
    "        if self.empty():\n",
    "            return -1\n",
    "        return self.items.popleft()\n",
    "    def front(self):\n",
    "        if self.empty():\n",
    "            return -1\n",
    "        return self.items[0]\n",
    "\n",
    "N, K = list(map(int, input().split()))\n",
    "queue = Queue()\n",
    "\n",
    "for i in range(1, N+1):\n",
    "    queue.push(i)\n",
    "while queue.empty() == 0:\n",
    "    for _ in range(K-1):\n",
    "        queue.push(queue.front())\n",
    "        queue.pop()\n",
    "    print(queue.pop(), end=\" \")\n"
   ]
  }
 ],
 "metadata": {
  "kernelspec": {
   "display_name": "Python 3",
   "language": "python",
   "name": "python3"
  },
  "language_info": {
   "codemirror_mode": {
    "name": "ipython",
    "version": 3
   },
   "file_extension": ".py",
   "mimetype": "text/x-python",
   "name": "python",
   "nbconvert_exporter": "python",
   "pygments_lexer": "ipython3",
   "version": "3.8.11"
  }
 },
 "nbformat": 4,
 "nbformat_minor": 5
}
