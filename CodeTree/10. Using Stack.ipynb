{
 "cells": [
  {
   "cell_type": "code",
   "execution_count": null,
   "id": "65b466b8",
   "metadata": {},
   "outputs": [],
   "source": [
    "class Stack:\n",
    "    def __init__(self):\n",
    "        self.items = []\n",
    "    def push(self, item):\n",
    "        self.items.append(item)\n",
    "    def empty(self):\n",
    "        return int(not self.items) \n",
    "    def size(self):\n",
    "        return len(self.items)\n",
    "    def pop(self):\n",
    "        if self.empty():\n",
    "            print(\"Stack is empty\")\n",
    "            return 0\n",
    "        return self.items.pop()\n",
    "    def top(self):\n",
    "        if self.empty():\n",
    "            print(\"Stack is empty\")\n",
    "            return 0\n",
    "        return self.items[-1]\n",
    "\n",
    "n = int(input())\n",
    "stack = Stack()\n",
    "for _ in range(n):\n",
    "    string = input()\n",
    "    if string == \"size\":\n",
    "        print(stack.size())\n",
    "    elif string == \"empty\":\n",
    "        print(stack.empty())\n",
    "    elif string == \"pop\":\n",
    "        print(stack.pop())\n",
    "    elif string == \"top\":\n",
    "        print(stack.top())\n",
    "    else:\n",
    "        _, n = string.split()\n",
    "        n = int(n)\n",
    "        stack.push(n)"
   ]
  }
 ],
 "metadata": {
  "kernelspec": {
   "display_name": "Python 3",
   "language": "python",
   "name": "python3"
  },
  "language_info": {
   "codemirror_mode": {
    "name": "ipython",
    "version": 3
   },
   "file_extension": ".py",
   "mimetype": "text/x-python",
   "name": "python",
   "nbconvert_exporter": "python",
   "pygments_lexer": "ipython3",
   "version": "3.8.11"
  }
 },
 "nbformat": 4,
 "nbformat_minor": 5
}
