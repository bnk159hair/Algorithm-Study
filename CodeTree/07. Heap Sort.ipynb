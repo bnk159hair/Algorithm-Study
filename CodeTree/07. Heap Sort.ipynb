{
 "cells": [
  {
   "cell_type": "code",
   "execution_count": null,
   "id": "c1b5f872",
   "metadata": {},
   "outputs": [],
   "source": [
    "n = int(input())\n",
    "tem_arr = list(map(int, input().split()))\n",
    "arr = [0] + tem_arr\n",
    "\n",
    "def swap(n, m):\n",
    "    temp = arr[n]\n",
    "    arr[n] = arr[m]\n",
    "    arr[m] = temp\n",
    "\n",
    "def heapify(n, i):\n",
    "    l = 2*i\n",
    "    r = 2*i + 1\n",
    "    largest = i\n",
    "\n",
    "    if l <= n and arr[l] > arr[largest]:\n",
    "        largest = l \n",
    "    if r <= n and arr[r] > arr[largest]:\n",
    "        largest = r\n",
    "    if i != largest:\n",
    "        swap(i, largest)\n",
    "        heapify(n, largest)\n",
    "\n",
    "def heap_sort(n):\n",
    "    num = n//2\n",
    "    for i in range(num, 0, -1):\n",
    "        heapify(n, i)\n",
    "    for i in range(n, 1, -1):\n",
    "        swap(1, i)\n",
    "        heapify(i-1, 1)\n",
    "\n",
    "heap_sort(len(arr)-1)\n",
    "\n",
    "for i in range(1, len(arr)):\n",
    "    print(arr[i], end=\" \")\n",
    "\n"
   ]
  }
 ],
 "metadata": {
  "kernelspec": {
   "display_name": "Python 3",
   "language": "python",
   "name": "python3"
  },
  "language_info": {
   "codemirror_mode": {
    "name": "ipython",
    "version": 3
   },
   "file_extension": ".py",
   "mimetype": "text/x-python",
   "name": "python",
   "nbconvert_exporter": "python",
   "pygments_lexer": "ipython3",
   "version": "3.8.11"
  }
 },
 "nbformat": 4,
 "nbformat_minor": 5
}
